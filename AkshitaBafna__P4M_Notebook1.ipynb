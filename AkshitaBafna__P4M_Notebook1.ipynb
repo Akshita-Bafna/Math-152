{
  "nbformat": 4,
  "nbformat_minor": 0,
  "metadata": {
    "kernelspec": {
      "display_name": "Python 3",
      "language": "python",
      "name": "python3"
    },
    "language_info": {
      "codemirror_mode": {
        "name": "ipython",
        "version": 3
      },
      "file_extension": ".py",
      "mimetype": "text/x-python",
      "name": "python",
      "nbconvert_exporter": "python",
      "pygments_lexer": "ipython3",
      "version": "3.6.7"
    },
    "colab": {
      "name": "AkshitaBafna_ P4M_Notebook1.ipynb",
      "provenance": [],
      "toc_visible": true,
      "include_colab_link": true
    }
  },
  "cells": [
    {
      "cell_type": "markdown",
      "metadata": {
        "id": "view-in-github",
        "colab_type": "text"
      },
      "source": [
        "<a href=\"https://colab.research.google.com/github/Akshita-Bafna/Math-152/blob/main/AkshitaBafna__P4M_Notebook1.ipynb\" target=\"_parent\"><img src=\"https://colab.research.google.com/assets/colab-badge.svg\" alt=\"Open In Colab\"/></a>"
      ]
    },
    {
      "cell_type": "markdown",
      "metadata": {
        "id": "aLsfIWSoU5x_"
      },
      "source": [
        "#  Computing with Python:  an Introduction"
      ]
    },
    {
      "cell_type": "markdown",
      "metadata": {
        "id": "AXTRG_T1U5yD"
      },
      "source": [
        "Welcome to programming!\n",
        "\n",
        "What is the difference between *Python* and a calculator?  We begin this first lesson by showing how Python can be used **as** a calculator, and we move into one of the most important programming structures -- the **loop**.  Loops allow computers to carry out repetetive computations, with just a few commands.\n",
        "\n",
        "To navigate this notebook, you might wish to click on the Table of Contents icon (near top-left of the Google Colab window).  Then you can expand the sections to work on each one.\n",
        "\n",
        "Remember to save your work frequently on your personal GitHub repository."
      ]
    },
    {
      "cell_type": "markdown",
      "metadata": {
        "id": "-y8Iz5LaU5yD"
      },
      "source": [
        "# Python as a calculator"
      ]
    },
    {
      "cell_type": "markdown",
      "metadata": {
        "id": "6rbqov7pU5yE"
      },
      "source": [
        "Different kinds of data are stored as different *types* in Python.  For example, if you wish to work with integers, your data is typically stored as an *int*.  A real number might be stored as a *float*.  There are types for booleans (True/False data), strings (like \"Hello World!\"), and many more we will see.  \n",
        "\n",
        "A more complete reference for Python's numerical types and arithmetic operations can be found in the [official Python documentation](https://docs.python.org/3/library/stdtypes.html).  The [official Python tutorial](https://docs.python.org/3/tutorial/introduction.html) is also a great place to start.\n",
        "\n",
        "Python allows you to perform arithmetic operations:  addition, subtraction, multiplication, and division, on numerical types.  The operation symbols are `+`, `-`, `*`, and `/`.   Evaluate each of the following cells to see how Python performs operations on *integers*.  \n",
        "\n",
        "To evaluate the cell, click anywhere within the cell to select it and use the keyboard shortcut *Shift-Enter* to evaluate.  But as you go through this and later lessons, try to *predict* what will happen when you evaluate the cell before you hit Shift-Enter.  Don't just click click click!  Think for a few seconds or a minute, and then Shift-Enter."
      ]
    },
    {
      "cell_type": "code",
      "metadata": {
        "scrolled": true,
        "id": "yqyWbMp-U5yE",
        "colab": {
          "base_uri": "https://localhost:8080/"
        },
        "outputId": "1b9cb0c6-9441-4d1f-9066-a4bc38b55ae3"
      },
      "source": [
        "2 + 3"
      ],
      "execution_count": null,
      "outputs": [
        {
          "output_type": "execute_result",
          "data": {
            "text/plain": [
              "5"
            ]
          },
          "metadata": {
            "tags": []
          },
          "execution_count": 1
        }
      ]
    },
    {
      "cell_type": "code",
      "metadata": {
        "scrolled": true,
        "id": "ITtBZC2kU5yE",
        "colab": {
          "base_uri": "https://localhost:8080/"
        },
        "outputId": "a06e6077-1b14-49d0-e227-6f47bec218cb"
      },
      "source": [
        "2 * 3"
      ],
      "execution_count": null,
      "outputs": [
        {
          "output_type": "execute_result",
          "data": {
            "text/plain": [
              "6"
            ]
          },
          "metadata": {
            "tags": []
          },
          "execution_count": 2
        }
      ]
    },
    {
      "cell_type": "code",
      "metadata": {
        "id": "mS2JIy1oU5yE",
        "colab": {
          "base_uri": "https://localhost:8080/"
        },
        "outputId": "d7e1dc00-bca7-4d24-d94d-6011024697a5"
      },
      "source": [
        "5 - 11"
      ],
      "execution_count": null,
      "outputs": [
        {
          "output_type": "execute_result",
          "data": {
            "text/plain": [
              "-6"
            ]
          },
          "metadata": {
            "tags": []
          },
          "execution_count": 3
        }
      ]
    },
    {
      "cell_type": "code",
      "metadata": {
        "id": "WRjeVm8rU5yF",
        "colab": {
          "base_uri": "https://localhost:8080/"
        },
        "outputId": "3e31c28f-7571-456b-b805-51b176660360"
      },
      "source": [
        "5.0 - 11"
      ],
      "execution_count": null,
      "outputs": [
        {
          "output_type": "execute_result",
          "data": {
            "text/plain": [
              "-6.0"
            ]
          },
          "metadata": {
            "tags": []
          },
          "execution_count": 4
        }
      ]
    },
    {
      "cell_type": "code",
      "metadata": {
        "id": "Q9pdWY_hU5yF",
        "colab": {
          "base_uri": "https://localhost:8080/"
        },
        "outputId": "e9e830da-e1f8-4880-f35c-7c0c31771682"
      },
      "source": [
        "5 / 11"
      ],
      "execution_count": null,
      "outputs": [
        {
          "output_type": "execute_result",
          "data": {
            "text/plain": [
              "0.45454545454545453"
            ]
          },
          "metadata": {
            "tags": []
          },
          "execution_count": 5
        }
      ]
    },
    {
      "cell_type": "code",
      "metadata": {
        "id": "TPzva1UXU5yF",
        "colab": {
          "base_uri": "https://localhost:8080/"
        },
        "outputId": "82fdc3a8-8855-4a41-8f38-23364727662e"
      },
      "source": [
        "6 / 3"
      ],
      "execution_count": null,
      "outputs": [
        {
          "output_type": "execute_result",
          "data": {
            "text/plain": [
              "2.0"
            ]
          },
          "metadata": {
            "tags": []
          },
          "execution_count": 6
        }
      ]
    },
    {
      "cell_type": "code",
      "metadata": {
        "id": "GUmGnpHVU5yF",
        "colab": {
          "base_uri": "https://localhost:8080/"
        },
        "outputId": "7ef70f94-fd1f-4903-f813-72b495728838"
      },
      "source": [
        "5 // 11"
      ],
      "execution_count": null,
      "outputs": [
        {
          "output_type": "execute_result",
          "data": {
            "text/plain": [
              "0"
            ]
          },
          "metadata": {
            "tags": []
          },
          "execution_count": 7
        }
      ]
    },
    {
      "cell_type": "code",
      "metadata": {
        "id": "JEXb5uPQU5yF",
        "colab": {
          "base_uri": "https://localhost:8080/"
        },
        "outputId": "a27ece36-9ee3-4ad8-bf0e-6bc2519697cc"
      },
      "source": [
        "6 // 3"
      ],
      "execution_count": null,
      "outputs": [
        {
          "output_type": "execute_result",
          "data": {
            "text/plain": [
              "2"
            ]
          },
          "metadata": {
            "tags": []
          },
          "execution_count": 8
        }
      ]
    },
    {
      "cell_type": "markdown",
      "metadata": {
        "id": "o4t4Yw_XU5yF"
      },
      "source": [
        "The results are probably not too surprising, though the last two require a bit of explanation.  Python *interprets* the input number 5 as an *int* (integer) and 5.0 as a *float*.  \"Float\" stands for \"floating point number,\" which are decimal approximations to real numbers.  The word \"float\" refers to the fact that the decimal (or binary, for computers) point can float around (as in 1.2345 or 12.345 or 123.45 or 1234.5 or 0.00012345).  There are deep computational issues related to how computers handle decimal approximations, and you can [read about the IEEE standards](https://en.wikipedia.org/wiki/IEEE_754) if you're interested.\n",
        "\n",
        "Python enables different kinds of division.  The single-slash division in Python 3.x gives a floating point approximation of the quotient.  That's why `5 / 11` and `6 / 3` both output floats.  On the other hand, `5 // 11` and `6 // 3` yield integer outputs (rounding down) -- this is useful, but one has to be careful!\n",
        "\n",
        "In fact the designers of Python changed their mind.  **This tutorial assumes that you are using Python 3.x.**  If you are using Python 2.x, the command `5 / 11` would output zero."
      ]
    },
    {
      "cell_type": "code",
      "metadata": {
        "id": "msOx7ga_U5yF",
        "colab": {
          "base_uri": "https://localhost:8080/"
        },
        "outputId": "00b85abf-725c-4584-e9c3-42fb5b62681c"
      },
      "source": [
        "-12 // 5  # What will this output?  Guess before evaluating!"
      ],
      "execution_count": null,
      "outputs": [
        {
          "output_type": "execute_result",
          "data": {
            "text/plain": [
              "-3"
            ]
          },
          "metadata": {
            "tags": []
          },
          "execution_count": 9
        }
      ]
    },
    {
      "cell_type": "markdown",
      "metadata": {
        "id": "6m4OcRYfU5yG"
      },
      "source": [
        "Why use integer division `//` and why use floating point division?  In practice, integer division is typically a faster operation.  So if you only need the rounded result (and that will often be the case), use integer division.  It will run much faster than carrying out floating point division then manually rounding down.\n",
        "\n",
        "Observe that floating point operations involve approximation.  The result of `5.0/11.0` might not be what you expect in the last digit.  Over time, especially with repeated operations, *floating point approximation* errors can add up!"
      ]
    },
    {
      "cell_type": "markdown",
      "metadata": {
        "id": "uAyV-QWrU5yG"
      },
      "source": [
        "You might be wondering about the little [XX] and [XX] prompts in the code cells above.  What is their purpose?  Guess what the following line will do."
      ]
    },
    {
      "cell_type": "code",
      "metadata": {
        "id": "vgnp3B3JU5yG",
        "colab": {
          "base_uri": "https://localhost:8080/"
        },
        "outputId": "191e7369-f728-44f9-bb58-fe99edb322fe"
      },
      "source": [
        "Out[4] + Out[5]"
      ],
      "execution_count": null,
      "outputs": [
        {
          "output_type": "execute_result",
          "data": {
            "text/plain": [
              "-5.545454545454546"
            ]
          },
          "metadata": {
            "tags": []
          },
          "execution_count": 10
        }
      ]
    },
    {
      "cell_type": "markdown",
      "metadata": {
        "id": "GgS8uA14U5yG"
      },
      "source": [
        "Cool, huh?  It's nice to have a record of previous computations, especially if you don't want to type something again.\n",
        "\n",
        "Python allows you to group expressions with parentheses, and follows the order of operations that you learn in school."
      ]
    },
    {
      "cell_type": "code",
      "metadata": {
        "id": "kE_p7LcGU5yG",
        "colab": {
          "base_uri": "https://localhost:8080/"
        },
        "outputId": "021529b2-7628-4f8b-8fc5-ecb6cb2fbad4"
      },
      "source": [
        "(3 + 4) * 5"
      ],
      "execution_count": null,
      "outputs": [
        {
          "output_type": "execute_result",
          "data": {
            "text/plain": [
              "35"
            ]
          },
          "metadata": {
            "tags": []
          },
          "execution_count": 11
        }
      ]
    },
    {
      "cell_type": "code",
      "metadata": {
        "id": "n-hUvTxHU5yG",
        "colab": {
          "base_uri": "https://localhost:8080/"
        },
        "outputId": "50f8b24a-78ff-46ee-833a-4679e0184c2f"
      },
      "source": [
        "3 + (4 * 5)"
      ],
      "execution_count": null,
      "outputs": [
        {
          "output_type": "execute_result",
          "data": {
            "text/plain": [
              "23"
            ]
          },
          "metadata": {
            "tags": []
          },
          "execution_count": 12
        }
      ]
    },
    {
      "cell_type": "code",
      "metadata": {
        "id": "3E_z7E81U5yG",
        "colab": {
          "base_uri": "https://localhost:8080/"
        },
        "outputId": "db2e31a9-f9c5-4800-fe78-f58ce847b242"
      },
      "source": [
        "3 + 4 * 5   #  What do you think will be the result?  Remember PEMDAS?"
      ],
      "execution_count": null,
      "outputs": [
        {
          "output_type": "execute_result",
          "data": {
            "text/plain": [
              "23"
            ]
          },
          "metadata": {
            "tags": []
          },
          "execution_count": 13
        }
      ]
    },
    {
      "cell_type": "markdown",
      "metadata": {
        "id": "lIFwbvWsU5yG"
      },
      "source": [
        "Now is a good time to try a few computations of your own, in the empty cell below.  You can type any Python commands you want in the empty cell.  If you want to insert a new cell into this notebook, just hover your cursor in the space between cells in Colab."
      ]
    },
    {
      "cell_type": "code",
      "metadata": {
        "id": "Rc5Lv9wLU5yH",
        "colab": {
          "base_uri": "https://localhost:8080/"
        },
        "outputId": "3db41312-76a9-48f5-c46d-02914bdd63f4"
      },
      "source": [
        "Out[5] + Out[7]\n"
      ],
      "execution_count": null,
      "outputs": [
        {
          "output_type": "execute_result",
          "data": {
            "text/plain": [
              "0.45454545454545453"
            ]
          },
          "metadata": {
            "tags": []
          },
          "execution_count": 14
        }
      ]
    },
    {
      "cell_type": "markdown",
      "metadata": {
        "id": "OkWlZNSSU5yH"
      },
      "source": [
        "For number theory, *division with remainder* is an operation of central importance.  Integer division provides the quotient, and the operation `%` provides the remainder.  It's a bit strange that the percent symbol is used for the remainder, but this [dates at least to the early 1970s](https://softwareengineering.stackexchange.com/questions/294297/in-what-programming-language-did-the-use-of-the-percent-sign-to-mean-modulo) and has become standard across computer languages."
      ]
    },
    {
      "cell_type": "code",
      "metadata": {
        "id": "xTWOi_XxU5yH",
        "colab": {
          "base_uri": "https://localhost:8080/"
        },
        "outputId": "fa71952f-c17e-45ae-9f1b-c35658579c4b"
      },
      "source": [
        "23 // 5  # Integer division"
      ],
      "execution_count": null,
      "outputs": [
        {
          "output_type": "execute_result",
          "data": {
            "text/plain": [
              "4"
            ]
          },
          "metadata": {
            "tags": []
          },
          "execution_count": 15
        }
      ]
    },
    {
      "cell_type": "code",
      "metadata": {
        "id": "UNjARp_xU5yH",
        "colab": {
          "base_uri": "https://localhost:8080/"
        },
        "outputId": "3fa3ebe1-8c9d-49d4-be40-083e8e129d8b"
      },
      "source": [
        "23 % 5  # The remainder after division"
      ],
      "execution_count": null,
      "outputs": [
        {
          "output_type": "execute_result",
          "data": {
            "text/plain": [
              "3"
            ]
          },
          "metadata": {
            "tags": []
          },
          "execution_count": 16
        }
      ]
    },
    {
      "cell_type": "markdown",
      "metadata": {
        "id": "WFrRvFgkU5yH"
      },
      "source": [
        "Note in the code above, there are little \"comments\".  To place a short comment on a line of code, just put a hashtag `#` at the end of the line of code, followed by your comment.\n",
        "\n",
        "Python gives a single command for division with remainder.  Its output is a *tuple*."
      ]
    },
    {
      "cell_type": "code",
      "metadata": {
        "id": "F2zJS-tRU5yH",
        "colab": {
          "base_uri": "https://localhost:8080/"
        },
        "outputId": "a04c54ca-8eb4-44ce-b9e5-0b63861fcafd"
      },
      "source": [
        "divmod(23,5)"
      ],
      "execution_count": null,
      "outputs": [
        {
          "output_type": "execute_result",
          "data": {
            "text/plain": [
              "(4, 3)"
            ]
          },
          "metadata": {
            "tags": []
          },
          "execution_count": 17
        }
      ]
    },
    {
      "cell_type": "code",
      "metadata": {
        "id": "y3dckm2dU5yH",
        "colab": {
          "base_uri": "https://localhost:8080/"
        },
        "outputId": "f850d3c6-9432-4d39-ec4f-8342692dd7ea"
      },
      "source": [
        "type(divmod(23,5))"
      ],
      "execution_count": null,
      "outputs": [
        {
          "output_type": "execute_result",
          "data": {
            "text/plain": [
              "tuple"
            ]
          },
          "metadata": {
            "tags": []
          },
          "execution_count": 18
        }
      ]
    },
    {
      "cell_type": "markdown",
      "metadata": {
        "id": "0qVUgNJ2U5yH"
      },
      "source": [
        "All data in Python has a type, but a common complaint about Python is that types are a bit concealed \"under the hood\".  But they are not far under the hood!  Anyone can find out the type of some data with a single command."
      ]
    },
    {
      "cell_type": "code",
      "metadata": {
        "id": "TU1Cho4tU5yI",
        "colab": {
          "base_uri": "https://localhost:8080/"
        },
        "outputId": "c134a381-87fa-4231-9c11-0e714091a34a"
      },
      "source": [
        "type(3)"
      ],
      "execution_count": null,
      "outputs": [
        {
          "output_type": "execute_result",
          "data": {
            "text/plain": [
              "int"
            ]
          },
          "metadata": {
            "tags": []
          },
          "execution_count": 19
        }
      ]
    },
    {
      "cell_type": "code",
      "metadata": {
        "id": "OYALDWO5U5yI",
        "colab": {
          "base_uri": "https://localhost:8080/"
        },
        "outputId": "d157410b-27a2-48b3-b579-ad6bd8b4475e"
      },
      "source": [
        "type(3.0)"
      ],
      "execution_count": null,
      "outputs": [
        {
          "output_type": "execute_result",
          "data": {
            "text/plain": [
              "float"
            ]
          },
          "metadata": {
            "tags": []
          },
          "execution_count": 20
        }
      ]
    },
    {
      "cell_type": "code",
      "metadata": {
        "id": "SHQ-_qcHU5yI",
        "colab": {
          "base_uri": "https://localhost:8080/"
        },
        "outputId": "01902ab1-2bee-4ed3-ad56-377317d5c9c1"
      },
      "source": [
        "type('Hello')"
      ],
      "execution_count": null,
      "outputs": [
        {
          "output_type": "execute_result",
          "data": {
            "text/plain": [
              "str"
            ]
          },
          "metadata": {
            "tags": []
          },
          "execution_count": 21
        }
      ]
    },
    {
      "cell_type": "code",
      "metadata": {
        "id": "nhf-YmD3U5yI",
        "colab": {
          "base_uri": "https://localhost:8080/"
        },
        "outputId": "a9a693fe-62b2-456b-ebe7-bcb089688135"
      },
      "source": [
        "type([1,2,3])"
      ],
      "execution_count": null,
      "outputs": [
        {
          "output_type": "execute_result",
          "data": {
            "text/plain": [
              "list"
            ]
          },
          "metadata": {
            "tags": []
          },
          "execution_count": 22
        }
      ]
    },
    {
      "cell_type": "markdown",
      "metadata": {
        "id": "tYWDszLmU5yI"
      },
      "source": [
        "The key to careful computation in Python is always being *aware of the type* of your data, and *knowing* how Python operates differently on data of different types."
      ]
    },
    {
      "cell_type": "code",
      "metadata": {
        "id": "Uc7eYJLWU5yI",
        "colab": {
          "base_uri": "https://localhost:8080/"
        },
        "outputId": "0d5c5060-c1d9-4c7e-cb49-2287f781ec7b"
      },
      "source": [
        "3 + 3"
      ],
      "execution_count": null,
      "outputs": [
        {
          "output_type": "execute_result",
          "data": {
            "text/plain": [
              "6"
            ]
          },
          "metadata": {
            "tags": []
          },
          "execution_count": 23
        }
      ]
    },
    {
      "cell_type": "code",
      "metadata": {
        "id": "jv6N6XLQU5yI",
        "colab": {
          "base_uri": "https://localhost:8080/"
        },
        "outputId": "4f97636c-df69-442c-a017-6fec2b64ac25"
      },
      "source": [
        "3.0 + 3.0"
      ],
      "execution_count": null,
      "outputs": [
        {
          "output_type": "execute_result",
          "data": {
            "text/plain": [
              "6.0"
            ]
          },
          "metadata": {
            "tags": []
          },
          "execution_count": 24
        }
      ]
    },
    {
      "cell_type": "code",
      "metadata": {
        "id": "KKF4Sv-jU5yI",
        "colab": {
          "base_uri": "https://localhost:8080/",
          "height": 35
        },
        "outputId": "25298e0f-9357-439a-b970-c22b8c6cdb4d"
      },
      "source": [
        "'Hello' + 'World!'"
      ],
      "execution_count": null,
      "outputs": [
        {
          "output_type": "execute_result",
          "data": {
            "application/vnd.google.colaboratory.intrinsic+json": {
              "type": "string"
            },
            "text/plain": [
              "'HelloWorld!'"
            ]
          },
          "metadata": {
            "tags": []
          },
          "execution_count": 25
        }
      ]
    },
    {
      "cell_type": "code",
      "metadata": {
        "id": "q9H__Z99U5yI",
        "colab": {
          "base_uri": "https://localhost:8080/"
        },
        "outputId": "52abd5f7-985b-4059-d95a-a20c98187ab4"
      },
      "source": [
        "[1,2,3] + [4,5,6]"
      ],
      "execution_count": null,
      "outputs": [
        {
          "output_type": "execute_result",
          "data": {
            "text/plain": [
              "[1, 2, 3, 4, 5, 6]"
            ]
          },
          "metadata": {
            "tags": []
          },
          "execution_count": 26
        }
      ]
    },
    {
      "cell_type": "code",
      "metadata": {
        "id": "NDDAxeQJU5yJ",
        "colab": {
          "base_uri": "https://localhost:8080/"
        },
        "outputId": "0dda82fe-c523-452e-ec41-902eb96de662"
      },
      "source": [
        "3 + 3.0"
      ],
      "execution_count": null,
      "outputs": [
        {
          "output_type": "execute_result",
          "data": {
            "text/plain": [
              "6.0"
            ]
          },
          "metadata": {
            "tags": []
          },
          "execution_count": 27
        }
      ]
    },
    {
      "cell_type": "code",
      "metadata": {
        "id": "xuBj_w9_U5yJ",
        "colab": {
          "base_uri": "https://localhost:8080/",
          "height": 164
        },
        "outputId": "1f00bb7b-f8ea-4b96-f665-559c38bb58e2"
      },
      "source": [
        "3 + 'Hello!'  # Uh oh!"
      ],
      "execution_count": null,
      "outputs": [
        {
          "output_type": "error",
          "ename": "TypeError",
          "evalue": "ignored",
          "traceback": [
            "\u001b[0;31m---------------------------------------------------------------------------\u001b[0m",
            "\u001b[0;31mTypeError\u001b[0m                                 Traceback (most recent call last)",
            "\u001b[0;32m<ipython-input-28-dacf80a979a3>\u001b[0m in \u001b[0;36m<module>\u001b[0;34m()\u001b[0m\n\u001b[0;32m----> 1\u001b[0;31m \u001b[0;36m3\u001b[0m \u001b[0;34m+\u001b[0m \u001b[0;34m'Hello!'\u001b[0m  \u001b[0;31m# Uh oh!\u001b[0m\u001b[0;34m\u001b[0m\u001b[0;34m\u001b[0m\u001b[0m\n\u001b[0m",
            "\u001b[0;31mTypeError\u001b[0m: unsupported operand type(s) for +: 'int' and 'str'"
          ]
        }
      ]
    },
    {
      "cell_type": "code",
      "metadata": {
        "id": "9P7roKZgU5yJ",
        "colab": {
          "base_uri": "https://localhost:8080/"
        },
        "outputId": "8a448280-a0e5-4073-9a50-636510b8b19b"
      },
      "source": [
        "#  An empty cell.  Have fun!\n",
        "#  Try operating on ints, floats, and strings, with different operations.  Which ones work?  How?\n",
        "5//2\n",
        "522%4"
      ],
      "execution_count": null,
      "outputs": [
        {
          "output_type": "execute_result",
          "data": {
            "text/plain": [
              "2"
            ]
          },
          "metadata": {
            "tags": []
          },
          "execution_count": 30
        }
      ]
    },
    {
      "cell_type": "markdown",
      "metadata": {
        "id": "1_2D8-NFU5yJ"
      },
      "source": [
        "As you can see, addition (the `+` operator) is interpreted differently in the contexts of numbers, strings, and lists.  The designers of Python allowed us to add *numbers* of different types:  if you try to operate on an *int* and a *float*, the *int* will typically be *coerced* into a float in order to perform the operation.  But the designers of Python did not give meaning to the addition of a number with a string, for example.  That's why you probably received a *TypeError* after trying to add a number to a string. \n",
        "\n",
        "On the other hand, Python does interpret *multiplication* of a natural number with a string or a list."
      ]
    },
    {
      "cell_type": "code",
      "metadata": {
        "id": "MmRfXepMU5yJ",
        "colab": {
          "base_uri": "https://localhost:8080/",
          "height": 35
        },
        "outputId": "5f5c722c-4597-4626-c865-b7dd9a872b44"
      },
      "source": [
        "3 * 'Hello!'"
      ],
      "execution_count": null,
      "outputs": [
        {
          "output_type": "execute_result",
          "data": {
            "application/vnd.google.colaboratory.intrinsic+json": {
              "type": "string"
            },
            "text/plain": [
              "'Hello!Hello!Hello!'"
            ]
          },
          "metadata": {
            "tags": []
          },
          "execution_count": 31
        }
      ]
    },
    {
      "cell_type": "code",
      "metadata": {
        "id": "gVo2bjWzU5yJ",
        "colab": {
          "base_uri": "https://localhost:8080/",
          "height": 35
        },
        "outputId": "af7a7177-4c57-4f98-de36-a309b6604201"
      },
      "source": [
        "0 * 'Hello!'"
      ],
      "execution_count": null,
      "outputs": [
        {
          "output_type": "execute_result",
          "data": {
            "application/vnd.google.colaboratory.intrinsic+json": {
              "type": "string"
            },
            "text/plain": [
              "''"
            ]
          },
          "metadata": {
            "tags": []
          },
          "execution_count": 32
        }
      ]
    },
    {
      "cell_type": "code",
      "metadata": {
        "id": "OqWWK6VWU5yJ",
        "colab": {
          "base_uri": "https://localhost:8080/"
        },
        "outputId": "dc3df8a5-3282-473e-c1ff-f03d1cf6c31c"
      },
      "source": [
        "2 * [1,2,3]"
      ],
      "execution_count": null,
      "outputs": [
        {
          "output_type": "execute_result",
          "data": {
            "text/plain": [
              "[1, 2, 3, 1, 2, 3]"
            ]
          },
          "metadata": {
            "tags": []
          },
          "execution_count": 33
        }
      ]
    },
    {
      "cell_type": "markdown",
      "metadata": {
        "id": "Z28hpoAjU5yJ"
      },
      "source": [
        "Can you create a string with 100 A's (like `AAA...`)?  Use an appropriate operation in the cell below."
      ]
    },
    {
      "cell_type": "code",
      "metadata": {
        "id": "fAxwL5O3U5yJ",
        "colab": {
          "base_uri": "https://localhost:8080/",
          "height": 35
        },
        "outputId": "ee39dc76-76a5-43ad-a671-0c42c8abfd82"
      },
      "source": [
        "#  Practice cell\n",
        "100 * 'A'\n"
      ],
      "execution_count": null,
      "outputs": [
        {
          "output_type": "execute_result",
          "data": {
            "application/vnd.google.colaboratory.intrinsic+json": {
              "type": "string"
            },
            "text/plain": [
              "'AAAAAAAAAAAAAAAAAAAAAAAAAAAAAAAAAAAAAAAAAAAAAAAAAAAAAAAAAAAAAAAAAAAAAAAAAAAAAAAAAAAAAAAAAAAAAAAAAAAA'"
            ]
          },
          "metadata": {
            "tags": []
          },
          "execution_count": 37
        }
      ]
    },
    {
      "cell_type": "markdown",
      "metadata": {
        "id": "nHp8b6_8U5yJ"
      },
      "source": [
        "Exponents in Python are given by the `**` operator.  The following lines compute 2 to the 1000th power, in two different ways."
      ]
    },
    {
      "cell_type": "code",
      "metadata": {
        "id": "VNDmF-hcU5yK",
        "colab": {
          "base_uri": "https://localhost:8080/"
        },
        "outputId": "0a86bb08-c548-4fac-c9d5-5e19beec2d0e"
      },
      "source": [
        "2**1000"
      ],
      "execution_count": null,
      "outputs": [
        {
          "output_type": "execute_result",
          "data": {
            "text/plain": [
              "10715086071862673209484250490600018105614048117055336074437503883703510511249361224931983788156958581275946729175531468251871452856923140435984577574698574803934567774824230985421074605062371141877954182153046474983581941267398767559165543946077062914571196477686542167660429831652624386837205668069376"
            ]
          },
          "metadata": {
            "tags": []
          },
          "execution_count": 38
        }
      ]
    },
    {
      "cell_type": "code",
      "metadata": {
        "id": "DEHGNQ3RU5yK",
        "colab": {
          "base_uri": "https://localhost:8080/"
        },
        "outputId": "d0ebb980-f5a4-4be8-c4ce-173528687dbb"
      },
      "source": [
        "2.0**1000"
      ],
      "execution_count": null,
      "outputs": [
        {
          "output_type": "execute_result",
          "data": {
            "text/plain": [
              "1.0715086071862673e+301"
            ]
          },
          "metadata": {
            "tags": []
          },
          "execution_count": 39
        }
      ]
    },
    {
      "cell_type": "markdown",
      "metadata": {
        "id": "O1bSyFFJU5yK"
      },
      "source": [
        "As before, Python interprets an operation (`**`) differently in different contexts.  When given integer input, Python evaluates `2**1000` **exactly**.  The result is a large integer.  A nice fact about Python, for mathematicians, is that it handles exact integers of arbitrary length!  Many other programming languages (like C++) will give an error message if integers get too large in the midst of a computation.  \n",
        "\n",
        "New in version 3.x, Python implements long integers without giving signals to the programmer or changing types.  In Python 2.x, there were two types: *int* for somewhat small integers (e.g., up to $2^{31}$) and *long* type for all larger integers.  Python 2.x would signal which type of integer was being used, by placing the letter \"L\" at the end of a long integer.  Now, in Python 3.x, the programmer doesn't really see the difference.  There is only the *int* type.  But Python still optimizes computations, using hardware functionality for arithmetic of small integers and custom routines for large integers.  The programmer doesn't have to worry about it most of the time.\n",
        "\n",
        "For scientific applications, one often wants to keep track of only a certain number of significant digits (sig figs).  If one computes the floating point exponent `2.0**1000`, the result is a decimal approximation.  It is still a float.  The expression \"e+301\" stands for \"multiplied by 10 to the 301st power\", i.e., Python uses *scientific notation* for large floats."
      ]
    },
    {
      "cell_type": "code",
      "metadata": {
        "id": "gbiP5lpxU5yK"
      },
      "source": [
        "type(2**1000)"
      ],
      "execution_count": null,
      "outputs": []
    },
    {
      "cell_type": "code",
      "metadata": {
        "id": "oYFQ7ZxFU5yL"
      },
      "source": [
        "type(2.0**1000)"
      ],
      "execution_count": null,
      "outputs": []
    },
    {
      "cell_type": "code",
      "metadata": {
        "id": "MtmwQzLgU5yL",
        "colab": {
          "base_uri": "https://localhost:8080/"
        },
        "outputId": "3b4971ce-600e-4eb1-a149-4d27c506a248"
      },
      "source": [
        "#  An empty cell.  Have fun!\n",
        "\n",
        "1.0*34\n"
      ],
      "execution_count": null,
      "outputs": [
        {
          "output_type": "execute_result",
          "data": {
            "text/plain": [
              "34.0"
            ]
          },
          "metadata": {
            "tags": []
          },
          "execution_count": 68
        }
      ]
    },
    {
      "cell_type": "markdown",
      "metadata": {
        "id": "hu0LPXNLU5yL"
      },
      "source": [
        "Now is a good time for reflection.  Double-click in the cell below to answer the given questions.  Cells like this one are used for text rather than Python code.  Text is entered using *markdown*, but you can typically just enter text as you would in any text editor without problems.  Press *shift-Enter* after editing a text cell to complete the editing process.  "
      ]
    },
    {
      "cell_type": "markdown",
      "metadata": {
        "id": "QLyCVcXoU5yL"
      },
      "source": [
        "### Exercises\n",
        "\n",
        "1.  What data types have you seen, and what kinds of data are they used for?  Can you remember them without looking back?\n",
        "\n",
        "2.  How is division `/` interpreted differently for different types of data?\n",
        "\n",
        "3.  How is multiplication `*` interpreted differently for different types of data?\n",
        "\n",
        "4.  What is the difference between 100 and 100.0, for Python?"
      ]
    },
    {
      "cell_type": "markdown",
      "metadata": {
        "id": "KDzM72ZXU5yL"
      },
      "source": [
        "Double-click this text cell to edit it, and answer the exercises.  This may be graded, so please complete all questions!  Write in clear, complete, and concise sentences.\n",
        "\n",
        "1.integer, float, string and list  \n",
        "\n",
        "2.division isn't possible for string and list data. For integer and float, output type depends on whether float data is used at all. If even one of the components is float, the output is also float. If only all components are integers, is the output integer. \n",
        "\n",
        "3.Multiplication also works similarly. If any one of the components is of float, then the output is float. If all components are integers, then the output is alos integer. The only differenc eis for string and list, as multiplication works for these types of data. \n",
        "\n",
        "4.100 in python is an integer, and 100.0 is float, as a decimal point data, which is more accurate for some operations. "
      ]
    },
    {
      "cell_type": "markdown",
      "metadata": {
        "id": "0jhkZ5zhU5yL"
      },
      "source": [
        "# Calculating with booleans"
      ]
    },
    {
      "cell_type": "markdown",
      "metadata": {
        "id": "IAb0HST5U5yM"
      },
      "source": [
        "A *boolean* (type *bool*) is the smallest possible piece of data.  While an *int* can be any integer, positive or negative, a *boolean* can only be one of two things:  *True* or *False*.  In this way, booleans are useful for storing the answers to yes/no questions.  \n",
        "\n",
        "Questions about (in)equality of numbers are answered in Python by *operations* with numerical input and boolean output.  Here are some examples.  A more complete reference is [in the official Python documentation](https://docs.python.org/3/library/stdtypes.html#boolean-operations-and-or-not)."
      ]
    },
    {
      "cell_type": "code",
      "metadata": {
        "id": "AqNG6PZBU5yM",
        "colab": {
          "base_uri": "https://localhost:8080/"
        },
        "outputId": "badb767a-ed4b-4284-c2d4-db6efc80cb76"
      },
      "source": [
        "3 > 2"
      ],
      "execution_count": null,
      "outputs": [
        {
          "output_type": "execute_result",
          "data": {
            "text/plain": [
              "True"
            ]
          },
          "metadata": {
            "tags": []
          },
          "execution_count": 40
        }
      ]
    },
    {
      "cell_type": "code",
      "metadata": {
        "id": "nOgi4gqUU5yM",
        "colab": {
          "base_uri": "https://localhost:8080/"
        },
        "outputId": "571b6f2a-fa51-416b-b037-bd35ca97876c"
      },
      "source": [
        "type(3 > 2)"
      ],
      "execution_count": null,
      "outputs": [
        {
          "output_type": "execute_result",
          "data": {
            "text/plain": [
              "bool"
            ]
          },
          "metadata": {
            "tags": []
          },
          "execution_count": 41
        }
      ]
    },
    {
      "cell_type": "code",
      "metadata": {
        "id": "WabkpXPbU5yM",
        "colab": {
          "base_uri": "https://localhost:8080/"
        },
        "outputId": "8ae3617c-14ac-498c-bc6f-007c9e03c74f"
      },
      "source": [
        "10 < 3"
      ],
      "execution_count": null,
      "outputs": [
        {
          "output_type": "execute_result",
          "data": {
            "text/plain": [
              "False"
            ]
          },
          "metadata": {
            "tags": []
          },
          "execution_count": 42
        }
      ]
    },
    {
      "cell_type": "code",
      "metadata": {
        "id": "Mohc3o5oU5yM",
        "colab": {
          "base_uri": "https://localhost:8080/"
        },
        "outputId": "d816801b-41ac-4289-f682-fc957173bd53"
      },
      "source": [
        "2.4 < 2.4000001"
      ],
      "execution_count": null,
      "outputs": [
        {
          "output_type": "execute_result",
          "data": {
            "text/plain": [
              "True"
            ]
          },
          "metadata": {
            "tags": []
          },
          "execution_count": 43
        }
      ]
    },
    {
      "cell_type": "code",
      "metadata": {
        "id": "jnrzq17fU5yM",
        "colab": {
          "base_uri": "https://localhost:8080/"
        },
        "outputId": "6cd66662-fc5d-4296-c25f-c7f240d24bc0"
      },
      "source": [
        "32 >= 32"
      ],
      "execution_count": null,
      "outputs": [
        {
          "output_type": "execute_result",
          "data": {
            "text/plain": [
              "True"
            ]
          },
          "metadata": {
            "tags": []
          },
          "execution_count": 44
        }
      ]
    },
    {
      "cell_type": "code",
      "metadata": {
        "id": "D55td8J7U5yM",
        "colab": {
          "base_uri": "https://localhost:8080/"
        },
        "outputId": "3714f927-afb8-4f83-ff61-14fdd00d8d6f"
      },
      "source": [
        "32 >= 31"
      ],
      "execution_count": null,
      "outputs": [
        {
          "output_type": "execute_result",
          "data": {
            "text/plain": [
              "True"
            ]
          },
          "metadata": {
            "tags": []
          },
          "execution_count": 45
        }
      ]
    },
    {
      "cell_type": "code",
      "metadata": {
        "id": "L0RlreGLU5yM",
        "colab": {
          "base_uri": "https://localhost:8080/"
        },
        "outputId": "30ca1172-eb9c-498e-a806-f18af2cbb470"
      },
      "source": [
        "2 + 2 == 4"
      ],
      "execution_count": null,
      "outputs": [
        {
          "output_type": "execute_result",
          "data": {
            "text/plain": [
              "True"
            ]
          },
          "metadata": {
            "tags": []
          },
          "execution_count": 46
        }
      ]
    },
    {
      "cell_type": "markdown",
      "metadata": {
        "id": "_f2QoYJ-U5yM"
      },
      "source": [
        "Which number is bigger:  $23^{32}$ or $32^{23}$?  Use the cell below to answer the question!"
      ]
    },
    {
      "cell_type": "code",
      "metadata": {
        "id": "PGlksxncU5yN",
        "colab": {
          "base_uri": "https://localhost:8080/"
        },
        "outputId": "5228aead-67ae-4bc3-ec62-f34f3fa1daef"
      },
      "source": [
        "#  Write your code here.\n",
        "23**32 > 32**23\n"
      ],
      "execution_count": null,
      "outputs": [
        {
          "output_type": "execute_result",
          "data": {
            "text/plain": [
              "True"
            ]
          },
          "metadata": {
            "tags": []
          },
          "execution_count": 47
        }
      ]
    },
    {
      "cell_type": "markdown",
      "metadata": {
        "id": "KTiAVQ0qU5yN"
      },
      "source": [
        "The expressions `<`, `>`, `<=`, `>=` are interpreted here as **operations** with numerical input and boolean output.  The symbol `==` (two equal symbols!) gives a True result if the numbers are equal, and False if the numbers are not equal.  An extremely common typo is to confuse `=` with `==`.  But the single equality symbol `=` has an entirely different meaning, as we shall see."
      ]
    },
    {
      "cell_type": "markdown",
      "metadata": {
        "id": "3atYTyAnU5yN"
      },
      "source": [
        "Using the remainder operator `%` and equality, we obtain a divisibility test."
      ]
    },
    {
      "cell_type": "code",
      "metadata": {
        "id": "t1BCq6GFU5yN",
        "colab": {
          "base_uri": "https://localhost:8080/"
        },
        "outputId": "d806193c-f240-4364-e4ef-6229add2881f"
      },
      "source": [
        "63 % 7 == 0  # Is 63 divisible by 7?"
      ],
      "execution_count": null,
      "outputs": [
        {
          "output_type": "execute_result",
          "data": {
            "text/plain": [
              "True"
            ]
          },
          "metadata": {
            "tags": []
          },
          "execution_count": 48
        }
      ]
    },
    {
      "cell_type": "code",
      "metadata": {
        "id": "kYz8XfraU5yN"
      },
      "source": [
        "101 % 2 == 0  # Is 101 even?"
      ],
      "execution_count": null,
      "outputs": []
    },
    {
      "cell_type": "markdown",
      "metadata": {
        "id": "0Iikx3JZU5yN"
      },
      "source": [
        "Use the cell below to determine whether 1234567890 is divisible by 3."
      ]
    },
    {
      "cell_type": "code",
      "metadata": {
        "id": "LPqBN_VlU5yN",
        "colab": {
          "base_uri": "https://localhost:8080/"
        },
        "outputId": "31c80519-133d-4506-956c-f9afc1d7ff05"
      },
      "source": [
        "# Your code goes here.\n",
        "1234567890 % 3 == 0\n"
      ],
      "execution_count": null,
      "outputs": [
        {
          "output_type": "execute_result",
          "data": {
            "text/plain": [
              "True"
            ]
          },
          "metadata": {
            "tags": []
          },
          "execution_count": 50
        }
      ]
    },
    {
      "cell_type": "markdown",
      "metadata": {
        "id": "Tvle2bwdU5yN"
      },
      "source": [
        "Booleans can be operated on by the standard logical operations: and, or, not.  In ordinary English usage, \"and\" and \"or\" are conjunctions, while here in *Boolean algebra*, \"and\" and \"or\" are operations with Boolean inputs and Boolean output.  The precise meanings of \"and\" and \"or\" are given by the following **truth tables**.\n",
        "\n",
        "    \n",
        "| and | True | False |\n",
        "|-----|------|-------|\n",
        "| **True** | True | False |\n",
        "| **False** | False | False|\n",
        "\n",
        "<br>\n",
        "  \n",
        "| or | True | False |\n",
        "|-----|------|-------|\n",
        "| **True** | True | True |\n",
        "| **False** | True | False|"
      ]
    },
    {
      "cell_type": "code",
      "metadata": {
        "id": "eRo1A6IzU5yN",
        "colab": {
          "base_uri": "https://localhost:8080/"
        },
        "outputId": "66ee309c-2a49-4ece-a47c-cb05f8be8f9b"
      },
      "source": [
        "True and False"
      ],
      "execution_count": null,
      "outputs": [
        {
          "output_type": "execute_result",
          "data": {
            "text/plain": [
              "False"
            ]
          },
          "metadata": {
            "tags": []
          },
          "execution_count": 51
        }
      ]
    },
    {
      "cell_type": "code",
      "metadata": {
        "id": "sFMWK-0HU5yN",
        "colab": {
          "base_uri": "https://localhost:8080/"
        },
        "outputId": "fdf9d051-5041-420c-cd34-15095526a944"
      },
      "source": [
        "True or False"
      ],
      "execution_count": null,
      "outputs": [
        {
          "output_type": "execute_result",
          "data": {
            "text/plain": [
              "True"
            ]
          },
          "metadata": {
            "tags": []
          },
          "execution_count": 52
        }
      ]
    },
    {
      "cell_type": "code",
      "metadata": {
        "id": "5bREtxzOU5yN",
        "colab": {
          "base_uri": "https://localhost:8080/"
        },
        "outputId": "219846f7-bca3-4a19-c7b7-fc203760d508"
      },
      "source": [
        "True or True"
      ],
      "execution_count": null,
      "outputs": [
        {
          "output_type": "execute_result",
          "data": {
            "text/plain": [
              "True"
            ]
          },
          "metadata": {
            "tags": []
          },
          "execution_count": 53
        }
      ]
    },
    {
      "cell_type": "code",
      "metadata": {
        "id": "DP0Rw6jDU5yO",
        "colab": {
          "base_uri": "https://localhost:8080/"
        },
        "outputId": "05638c6a-a0d4-4b90-ed84-d658ab2ab554"
      },
      "source": [
        "not True"
      ],
      "execution_count": null,
      "outputs": [
        {
          "output_type": "execute_result",
          "data": {
            "text/plain": [
              "False"
            ]
          },
          "metadata": {
            "tags": []
          },
          "execution_count": 54
        }
      ]
    },
    {
      "cell_type": "markdown",
      "metadata": {
        "id": "DRKe3Jv8U5yO"
      },
      "source": [
        "Use the truth tables to predict the result (True or False) of each of the following, before evaluating the code."
      ]
    },
    {
      "cell_type": "code",
      "metadata": {
        "id": "NVKb_6njU5yO",
        "colab": {
          "base_uri": "https://localhost:8080/"
        },
        "outputId": "3256656d-9973-4477-be21-5de7658a87a2"
      },
      "source": [
        "(2 > 3) and (3 > 2)"
      ],
      "execution_count": null,
      "outputs": [
        {
          "output_type": "execute_result",
          "data": {
            "text/plain": [
              "False"
            ]
          },
          "metadata": {
            "tags": []
          },
          "execution_count": 55
        }
      ]
    },
    {
      "cell_type": "code",
      "metadata": {
        "id": "JrprEal6U5yO",
        "colab": {
          "base_uri": "https://localhost:8080/"
        },
        "outputId": "6fab64a1-4a5c-443d-f392-fc3912bcf0b8"
      },
      "source": [
        "(1 + 1 == 2) or (1 + 1 == 3)"
      ],
      "execution_count": null,
      "outputs": [
        {
          "output_type": "execute_result",
          "data": {
            "text/plain": [
              "True"
            ]
          },
          "metadata": {
            "tags": []
          },
          "execution_count": 56
        }
      ]
    },
    {
      "cell_type": "code",
      "metadata": {
        "scrolled": true,
        "id": "Ef-ryEGjU5yO",
        "colab": {
          "base_uri": "https://localhost:8080/"
        },
        "outputId": "8c6591c9-14ca-4d10-9b29-6a0adfa2c868"
      },
      "source": [
        "not (-1 + 1 >= 0)"
      ],
      "execution_count": null,
      "outputs": [
        {
          "output_type": "execute_result",
          "data": {
            "text/plain": [
              "False"
            ]
          },
          "metadata": {
            "tags": []
          },
          "execution_count": 57
        }
      ]
    },
    {
      "cell_type": "code",
      "metadata": {
        "id": "FUSY_QuLU5yO",
        "colab": {
          "base_uri": "https://localhost:8080/"
        },
        "outputId": "ad3fa0a6-3e2c-4a48-a4e6-32f9068d9f3f"
      },
      "source": [
        "2 + 2 == 4"
      ],
      "execution_count": null,
      "outputs": [
        {
          "output_type": "execute_result",
          "data": {
            "text/plain": [
              "True"
            ]
          },
          "metadata": {
            "tags": []
          },
          "execution_count": 58
        }
      ]
    },
    {
      "cell_type": "code",
      "metadata": {
        "id": "hKTk4LjaU5yO",
        "colab": {
          "base_uri": "https://localhost:8080/"
        },
        "outputId": "110d33d6-bfd2-418b-ce20-e2e7281e232d"
      },
      "source": [
        "2 + 2 != 4  # For \"not equal\", Python uses the operation `!=`."
      ],
      "execution_count": null,
      "outputs": [
        {
          "output_type": "execute_result",
          "data": {
            "text/plain": [
              "False"
            ]
          },
          "metadata": {
            "tags": []
          },
          "execution_count": 61
        }
      ]
    },
    {
      "cell_type": "code",
      "metadata": {
        "id": "UsJtoToLU5yO",
        "colab": {
          "base_uri": "https://localhost:8080/"
        },
        "outputId": "d360e3a9-23d8-47cc-9d7d-4bf92da4294b"
      },
      "source": [
        "2 + 2 != 5  # Is 2+2 *not* equal to 5?"
      ],
      "execution_count": null,
      "outputs": [
        {
          "output_type": "execute_result",
          "data": {
            "text/plain": [
              "True"
            ]
          },
          "metadata": {
            "tags": []
          },
          "execution_count": 62
        }
      ]
    },
    {
      "cell_type": "code",
      "metadata": {
        "id": "tVfKlWT_U5yO",
        "colab": {
          "base_uri": "https://localhost:8080/"
        },
        "outputId": "166e6735-50fc-4beb-c295-cd81c288c100"
      },
      "source": [
        "not (2 + 2 == 5)  # The same as above, but a bit longer to write."
      ],
      "execution_count": null,
      "outputs": [
        {
          "output_type": "execute_result",
          "data": {
            "text/plain": [
              "True"
            ]
          },
          "metadata": {
            "tags": []
          },
          "execution_count": 63
        }
      ]
    },
    {
      "cell_type": "markdown",
      "metadata": {
        "id": "uwxFqT9uU5yO"
      },
      "source": [
        "Experiment below to see how Python handles a double or triple negative, i.e., something with a `not` `not`."
      ]
    },
    {
      "cell_type": "code",
      "metadata": {
        "id": "nD-RgY0CU5yP",
        "colab": {
          "base_uri": "https://localhost:8080/"
        },
        "outputId": "58abafa5-9169-4f60-e46b-098da8f2fbca"
      },
      "source": [
        "# Experiment here.\n",
        "not not (5 + 6 == 12)\n"
      ],
      "execution_count": null,
      "outputs": [
        {
          "output_type": "execute_result",
          "data": {
            "text/plain": [
              "False"
            ]
          },
          "metadata": {
            "tags": []
          },
          "execution_count": 64
        }
      ]
    },
    {
      "cell_type": "markdown",
      "metadata": {
        "id": "5xxO21m1U5yP"
      },
      "source": [
        "Python does give an interpretation to arithmetic operations with booleans and numbers.  Try to guess this interpretation with the following examples.  Change the examples to experiment!"
      ]
    },
    {
      "cell_type": "code",
      "metadata": {
        "id": "Y2lLPpdWU5yP",
        "colab": {
          "base_uri": "https://localhost:8080/"
        },
        "outputId": "cd507ea9-1077-4295-bce2-f6c69e9a7316"
      },
      "source": [
        "False * 100"
      ],
      "execution_count": null,
      "outputs": [
        {
          "output_type": "execute_result",
          "data": {
            "text/plain": [
              "0"
            ]
          },
          "metadata": {
            "tags": []
          },
          "execution_count": 69
        }
      ]
    },
    {
      "cell_type": "code",
      "metadata": {
        "id": "5y3rtwrdU5yP",
        "colab": {
          "base_uri": "https://localhost:8080/"
        },
        "outputId": "7db47d6a-6eab-4a24-df95-22b9ba49c6a8"
      },
      "source": [
        "True + 13"
      ],
      "execution_count": null,
      "outputs": [
        {
          "output_type": "execute_result",
          "data": {
            "text/plain": [
              "14"
            ]
          },
          "metadata": {
            "tags": []
          },
          "execution_count": 70
        }
      ]
    },
    {
      "cell_type": "markdown",
      "metadata": {
        "id": "QOkU3A_fU5yP"
      },
      "source": [
        "This ability of Python to interpret operations based on context is a mixed blessing.  On one hand, it leads to handy shortcuts -- quick ways of writing complicated programs.  On the other hand, it can lead to code that is harder to read, especially for a Python novice.  Good programmers aim for code that is easy to read, not just short!\n",
        "\n",
        "The [Zen of Python](https://www.python.org/dev/peps/pep-0020/) is a series of 20 aphorisms for Python programmers.  The first seven are below.\n",
        "\n",
        "> Beautiful is better than ugly.\n",
        "\n",
        "> Explicit is better than implicit.\n",
        "\n",
        "> Simple is better than complex.\n",
        "\n",
        "> Complex is better than complicated.\n",
        "\n",
        "> Flat is better than nested.\n",
        "\n",
        "> Sparse is better than dense.\n",
        "\n",
        "> Readability counts."
      ]
    },
    {
      "cell_type": "markdown",
      "metadata": {
        "id": "_5mUQ1tCU5yP"
      },
      "source": [
        "### Exercises\n",
        "\n",
        "1.  Did you look at the truth tables closely?  Can you remember, from memory, what `True or False` equals, or what `True and False` equals?  \n",
        "\n",
        "2.  How might you easily remember the truth tables?  How do they resemble the standard English usage of the words \"and\" and \"or\"?\n",
        "\n",
        "3.  If you wanted to know whether a number, like 2349872348723, is a multiple of 7 but **not** a multiple of 11, how might you write this in one line of Python code?\n",
        "\n",
        "4.  You can chain together `and` commands, e.g., with an expression like `True and True and True` (which would evaluate to `True`).  You can also group booleans, e.g., with `True and (True or False)`.  Experiment to figure out the order of operations (`and`, `or`, `not`) for booleans.\n",
        "\n",
        "6.  The operation `xor` means \"exclusive or\".  Its truth table is: `True xor True = False` and `False xor False = False` and `True xor False = True` and `False xor True = True`.  How might you implement `xor` in terms of the usual `and`, `or`, and `not`?\n",
        "\n"
      ]
    },
    {
      "cell_type": "markdown",
      "metadata": {
        "id": "owWkn3ieU5yP"
      },
      "source": [
        "###  Solutions\n",
        "\n",
        "(Edit here to give solutions to the exercises)\n",
        "\n",
        "1. Its quite easy to remember the truth table actaully.  \n",
        "\n",
        "2. If any one of the components in False for the 'and' option, it equals False, or else True. If any one of the components is True for the 'or' option, it equals True, or else False. \n",
        "\n",
        "3. 2348762348723%7==0 and 2348762348723%11!=0\n",
        "\n",
        "4. Anytime all 3 components are 'true', the answer is 'true', and the same for 'false'. Following the solutions in the two truth tables for 'and' and 'or' given, fist solve the one in the bracket, and whatever the solution is there, use it as the second component for the second evaluation. For example, in 'true and (true or false)' would be 'true and true' which would then be 'true'.  \n",
        "\n",
        "5. XOR basically implies that 'either one must be obtained but not both'. That is why, when the two xomponentsa re the same, the xor command gives a false, or else true. In terms of and, or and not, xor implies 'not((a or b)and b)"
      ]
    },
    {
      "cell_type": "markdown",
      "metadata": {
        "id": "k69tL17JU5yP"
      },
      "source": [
        "# Declaring variables"
      ]
    },
    {
      "cell_type": "markdown",
      "metadata": {
        "id": "UjI-5d00U5yP"
      },
      "source": [
        "A central feature of programming is the declaration of variables.  When you declare a variable, you are *storing* data in the computer's *memory* and you are assigning a *name* to that data.  Both storage and name-assignment are carried out with the *single* equality symbol =."
      ]
    },
    {
      "cell_type": "code",
      "metadata": {
        "id": "hkwJHNVpU5yQ"
      },
      "source": [
        "e = 2.71828"
      ],
      "execution_count": null,
      "outputs": []
    },
    {
      "cell_type": "markdown",
      "metadata": {
        "id": "gY-LejB4U5yQ"
      },
      "source": [
        "With this command, the float 2.71828 is stored somewhere inside your computer, and Python can access this stored number by the name \"e\" thereafter.  So if you want to compute \"e squared\", a single command will do."
      ]
    },
    {
      "cell_type": "code",
      "metadata": {
        "id": "2ZJ7VtIwU5yQ",
        "colab": {
          "base_uri": "https://localhost:8080/"
        },
        "outputId": "b5013b2b-d2dd-48b6-b860-c2c9cb720dd1"
      },
      "source": [
        "e * e"
      ],
      "execution_count": null,
      "outputs": [
        {
          "output_type": "execute_result",
          "data": {
            "text/plain": [
              "7.3890461584"
            ]
          },
          "metadata": {
            "tags": []
          },
          "execution_count": 2
        }
      ]
    },
    {
      "cell_type": "code",
      "metadata": {
        "id": "G46Ma5fCU5yQ",
        "colab": {
          "base_uri": "https://localhost:8080/"
        },
        "outputId": "24331cca-fc10-4479-d2ec-7af5c9868138"
      },
      "source": [
        "type(e)"
      ],
      "execution_count": null,
      "outputs": [
        {
          "output_type": "execute_result",
          "data": {
            "text/plain": [
              "float"
            ]
          },
          "metadata": {
            "tags": []
          },
          "execution_count": 3
        }
      ]
    },
    {
      "cell_type": "markdown",
      "metadata": {
        "id": "cWVyUzZxU5yQ"
      },
      "source": [
        "You can use just about any name you want for a variable, but your name *must* start with a letter, *must* not contain spaces, and your name *must* not be an existing Python word.  Characters in a variable name can include letters (uppercase and lowercase) and numbers and underscores `_`.  \n",
        "\n",
        "So `e` is a valid name for a variable, but `type` is a bad name.  It is very tempting for beginners to use very short abbreviation-style names for variables (like `dx` or `vbn`).  But resist that temptation and use more descriptive names for variables, like `difference_x` or `very_big_number`.  This will make your code readable by you and others!\n",
        "\n",
        "There are different style conventions for variable names.  We use lowercase names, with underscores separating words,  roughly following [Google's style conventions](https://google.github.io/styleguide/pyguide.html#Python_Style_Rules) for Python code."
      ]
    },
    {
      "cell_type": "code",
      "metadata": {
        "id": "yQN7N7ZPU5yQ"
      },
      "source": [
        "my_number = 17"
      ],
      "execution_count": null,
      "outputs": []
    },
    {
      "cell_type": "code",
      "metadata": {
        "id": "FitPq8UNU5yQ",
        "colab": {
          "base_uri": "https://localhost:8080/"
        },
        "outputId": "f88cd5e0-4f2f-47d2-e487-b7cbc9d78585"
      },
      "source": [
        "my_number < 23"
      ],
      "execution_count": null,
      "outputs": [
        {
          "output_type": "execute_result",
          "data": {
            "text/plain": [
              "True"
            ]
          },
          "metadata": {
            "tags": []
          },
          "execution_count": 5
        }
      ]
    },
    {
      "cell_type": "markdown",
      "metadata": {
        "id": "ne_mUsdnU5yQ"
      },
      "source": [
        "After you declare a variable, its value remains the same until it is changed.  You can change the value of a variable with a simple assignment.  After the above lines, the value of my_number is 17."
      ]
    },
    {
      "cell_type": "code",
      "metadata": {
        "id": "Eu-rHwt0U5yQ"
      },
      "source": [
        "my_number = 3.14"
      ],
      "execution_count": null,
      "outputs": []
    },
    {
      "cell_type": "markdown",
      "metadata": {
        "id": "cqgxOyyEU5yQ"
      },
      "source": [
        "This command reassigns the value of my_number to 3.14.  Note that it changes the type too!  It effectively overrides the previous value and replaces it with the new value.\n",
        "\n",
        "Often it is useful to change the value of a variable *incrementally* or *recursively*.  Python, like many programming languages, allows one to assign variables in a self-referential way.  What do you think the value of S will be after the following four lines?"
      ]
    },
    {
      "cell_type": "code",
      "metadata": {
        "id": "zW6_fRoxU5yR",
        "colab": {
          "base_uri": "https://localhost:8080/"
        },
        "outputId": "293bdbc5-bf09-41e5-9aa5-84a52fdcf4a1"
      },
      "source": [
        "S = 0\n",
        "S = S + 1\n",
        "S = S + 2\n",
        "S = S + 3\n",
        "print(S)"
      ],
      "execution_count": null,
      "outputs": [
        {
          "output_type": "stream",
          "text": [
            "6\n"
          ],
          "name": "stdout"
        }
      ]
    },
    {
      "cell_type": "markdown",
      "metadata": {
        "id": "cX1eo3jZU5yR"
      },
      "source": [
        "The first line `S = 0` is the initial declaration:  the value 0 is stored in memory, and the name S is assigned to this value.\n",
        "\n",
        "The next line `S = S + 1` looks like nonsense, as an algebraic sentence.  But reading = as **assignment** rather than **equality**, you should read the line `S = S + 1` as assigning the *value* `S + 1` to the *name* `S`.  When Python interprets `S = S + 1`, it carries out the following steps.\n",
        "\n",
        "1.  Compute the value of the right side, `S+1`.  (The value is 1, since `S` was assigned the value 0 in the previous line.)\n",
        "2.  Assign this value to the left side, `S`.  (Now `S` has the value 1.)\n",
        "\n",
        "Well, this is a slight lie.  Python probably does something more efficient, when given the command `S = S + 1`, since such operations are hard-wired in the computer and the Python interpreter is smart enough to take the most efficient route.  But at this level, it is most useful to think of a self-referential assignment of the form `X = expression(X)` as a two step process as above.\n",
        "\n",
        "1.  Compute the value of `expression(X)`.\n",
        "2.  Assign this value to `X`."
      ]
    },
    {
      "cell_type": "markdown",
      "metadata": {
        "id": "82NT9vo2U5yR"
      },
      "source": [
        "Now consider the following three commands."
      ]
    },
    {
      "cell_type": "code",
      "metadata": {
        "id": "CbT40NiuU5yR"
      },
      "source": [
        "my_number = 17\n",
        "new_number = my_number + 1\n",
        "my_number = 3.14"
      ],
      "execution_count": null,
      "outputs": []
    },
    {
      "cell_type": "markdown",
      "metadata": {
        "id": "yQz42J2dU5yR"
      },
      "source": [
        "What are the values of the variables my_number and new_number, after the execution of these three lines?\n",
        "\n",
        "To access these values, you can use the *print* function."
      ]
    },
    {
      "cell_type": "code",
      "metadata": {
        "id": "5J4rfa08U5yR",
        "colab": {
          "base_uri": "https://localhost:8080/"
        },
        "outputId": "bf3c196a-1188-4902-f121-b79e906c3c94"
      },
      "source": [
        "print(my_number)\n",
        "print(new_number)"
      ],
      "execution_count": null,
      "outputs": [
        {
          "output_type": "stream",
          "text": [
            "3.14\n",
            "18\n"
          ],
          "name": "stdout"
        }
      ]
    },
    {
      "cell_type": "markdown",
      "metadata": {
        "id": "DbEoFnjnU5yR"
      },
      "source": [
        "Python is an *interpreted* language, which carries out commands line-by-line from top to bottom.  So consider the three lines\n",
        "\n",
        "``` python\n",
        "my_number = 17\n",
        "new_number = my_number + 1\n",
        "my_number = 3.14\n",
        "```\n",
        "\n",
        "Line 1 sets the value of my_number to 17.  Line 2 sets the value of new_number to 18.  Line 3 sets the value of my_number to 3.14.  But Line 3 does *not* change the value of new_number at all.\n",
        "\n",
        "(This will become confusing and complicated later, as we study mutable and immutable types.)"
      ]
    },
    {
      "cell_type": "markdown",
      "metadata": {
        "id": "PFA4Q7SiU5yR"
      },
      "source": [
        "### Exercises\n",
        "\n",
        "1.  What is the difference between `=` and `==` in the Python language?\n",
        "\n",
        "2.  If the variable `x` has value `3`, and you then evaluate the Python command `x = x * x`, what will be the value of `x` after evaluation?\n",
        "\n",
        "3.  Imagine you have two variables `a` and `b`, and you want to switch their values.  How could you do this in Python?\n",
        "\n",
        "4.  Kepler's third law states that for a planet in circular orbit around an object of mass $M$, one has $4 \\pi^2 r^3 = G M t^2$.  We can use this to estimate the mass of the sun, from other astronomically observable quantities.  Look up $G$ (the gravitational constant, estimated by experiment on Earth) and $r$ (the distance from the Earth to the sun, in meters).  Compute $t$, the number of seconds it takes for the Earth to go around the sun (365.25 days).  Finally use all of this to estimate $M$, the mass of the sun.  Your solution should use 5-10 lines of Python code."
      ]
    },
    {
      "cell_type": "markdown",
      "metadata": {
        "id": "sIeJz7hUU5yR"
      },
      "source": [
        "### Solutions\n",
        "\n",
        "(Use this space to work on the exercises.  Place more code and text cells above as needed.)\n",
        "\n",
        "= sign is usually used to assign a certain value to a variable, and also change its value accordingly in the memory of the computer. == sign is used for true or false statements, to find the solution. FOr example , the command '5%5==1' will be true, but the command, '7%10==3' will be false. "
      ]
    },
    {
      "cell_type": "code",
      "metadata": {
        "id": "DyZm8s75uPMR"
      },
      "source": [
        "after the evaluation, x will be x^2, which is 3^2, which is 9. the new value of x will be 9. "
      ],
      "execution_count": null,
      "outputs": []
    },
    {
      "cell_type": "code",
      "metadata": {
        "id": "hgyOZJU-uT01"
      },
      "source": [
        "a=x\n",
        "x=y\n",
        "y=a\n",
        "print(format.(x))\n",
        "print(format.(y))\n"
      ],
      "execution_count": null,
      "outputs": []
    },
    {
      "cell_type": "code",
      "metadata": {
        "id": "B0SVX4UUupTz"
      },
      "source": [
        "G=6.67 * 10-11 Nm^2kg^-2 r=1.496 * 10^11 meters t=365.25 * 24 * 60 * 60 M=(4pi^3 * r^3)/(G*t^2)"
      ],
      "execution_count": null,
      "outputs": []
    },
    {
      "cell_type": "markdown",
      "metadata": {
        "id": "b81C2aIPU5yS"
      },
      "source": [
        "# Lists and ranges"
      ]
    },
    {
      "cell_type": "markdown",
      "metadata": {
        "id": "iZoKvbn0U5yS"
      },
      "source": [
        "Python stands out for the central role played by *lists*.  A *list* is what it sounds like -- a list of data.  Data within a list can be of any type.  Multiple types are possible within the same list!  The basic syntax for a list is to use brackets to enclose the list items and commas to separate the list items."
      ]
    },
    {
      "cell_type": "code",
      "metadata": {
        "id": "MQRMJWrgU5yS",
        "colab": {
          "base_uri": "https://localhost:8080/"
        },
        "outputId": "80a3aa53-4f2a-447e-b39b-6b27234efea6"
      },
      "source": [
        "type([1,2,3])"
      ],
      "execution_count": null,
      "outputs": [
        {
          "output_type": "execute_result",
          "data": {
            "text/plain": [
              "list"
            ]
          },
          "metadata": {
            "tags": []
          },
          "execution_count": 11
        }
      ]
    },
    {
      "cell_type": "code",
      "metadata": {
        "id": "BkTCBWhsU5yS",
        "colab": {
          "base_uri": "https://localhost:8080/"
        },
        "outputId": "7ed4d62d-da64-4c14-b1c5-2fe5398d95a2"
      },
      "source": [
        "type(['Hello',17])"
      ],
      "execution_count": null,
      "outputs": [
        {
          "output_type": "execute_result",
          "data": {
            "text/plain": [
              "list"
            ]
          },
          "metadata": {
            "tags": []
          },
          "execution_count": 12
        }
      ]
    },
    {
      "cell_type": "markdown",
      "metadata": {
        "id": "DH51tlMvU5yS"
      },
      "source": [
        "There is another type called a *tuple* that we will use less often.  Tuples use parentheses for enclosure instead of brackets."
      ]
    },
    {
      "cell_type": "code",
      "metadata": {
        "id": "8m1KBuRNU5yS",
        "colab": {
          "base_uri": "https://localhost:8080/"
        },
        "outputId": "986f3abb-832e-4880-8c30-1c52b92e3888"
      },
      "source": [
        "type((1,2,3))"
      ],
      "execution_count": null,
      "outputs": [
        {
          "output_type": "execute_result",
          "data": {
            "text/plain": [
              "tuple"
            ]
          },
          "metadata": {
            "tags": []
          },
          "execution_count": 13
        }
      ]
    },
    {
      "cell_type": "markdown",
      "metadata": {
        "id": "sFZr5TtpU5yS"
      },
      "source": [
        "There's another list-like type in Python 3, called the `range` type.  Ranges are kind of like lists, but instead of plunking every item into a slot of memory, ranges just have to remember three integers:  their *start*, their *stop*, and their *step*.    \n",
        "\n",
        "The `range` command creates a range with a given start, stop, and step.  If you only input one number, the range will ***start at zero*** and use ***steps of one*** and will stop ***just before*** the given stop-number.\n",
        "\n",
        "One can create a list from a range (plunking every term in the range into a slot of memory), by using the `list` command.  Here are a few examples."
      ]
    },
    {
      "cell_type": "code",
      "metadata": {
        "id": "0N_HejMiU5yS",
        "colab": {
          "base_uri": "https://localhost:8080/"
        },
        "outputId": "6af23194-8b91-4ad4-a149-c1aa34202d25"
      },
      "source": [
        "type(range(10)) # Ranges are their own type, in Python 3.x.  Not in Python 2.x!"
      ],
      "execution_count": null,
      "outputs": [
        {
          "output_type": "execute_result",
          "data": {
            "text/plain": [
              "range"
            ]
          },
          "metadata": {
            "tags": []
          },
          "execution_count": 14
        }
      ]
    },
    {
      "cell_type": "code",
      "metadata": {
        "id": "XzlQhL4eU5yS",
        "colab": {
          "base_uri": "https://localhost:8080/"
        },
        "outputId": "9816d642-15a7-42ab-f4ac-d1e204f77d87"
      },
      "source": [
        "list(range(10)) # Let's see what's in the range.  Note it starts at zero!  Where does it stop?"
      ],
      "execution_count": null,
      "outputs": [
        {
          "output_type": "execute_result",
          "data": {
            "text/plain": [
              "[0, 1, 2, 3, 4, 5, 6, 7, 8, 9]"
            ]
          },
          "metadata": {
            "tags": []
          },
          "execution_count": 15
        }
      ]
    },
    {
      "cell_type": "markdown",
      "metadata": {
        "id": "7-TeavRKU5yS"
      },
      "source": [
        "A more complicated two-input form of the range command produces a range of integers **starting at** a given number, and **terminating before** another given number."
      ]
    },
    {
      "cell_type": "code",
      "metadata": {
        "id": "fpHHkb82U5yT"
      },
      "source": [
        "list(range(3,10))"
      ],
      "execution_count": null,
      "outputs": []
    },
    {
      "cell_type": "code",
      "metadata": {
        "id": "O5A8XZFxU5yT",
        "colab": {
          "base_uri": "https://localhost:8080/"
        },
        "outputId": "364ce4c3-5a94-4b5b-de66-8d568bfdd2bf"
      },
      "source": [
        "list(range(-4,5))"
      ],
      "execution_count": null,
      "outputs": [
        {
          "output_type": "execute_result",
          "data": {
            "text/plain": [
              "[-4, -3, -2, -1, 0, 1, 2, 3, 4]"
            ]
          },
          "metadata": {
            "tags": []
          },
          "execution_count": 1
        }
      ]
    },
    {
      "cell_type": "markdown",
      "metadata": {
        "id": "dRzyphm5U5yT"
      },
      "source": [
        "This is a common source of difficulty for Python beginners.  While the first parameter (-4) is the starting point of the list, the list ends just before the second parameter (5).  This takes some getting used to, but experienced Python programmers grow to like this convention."
      ]
    },
    {
      "cell_type": "markdown",
      "metadata": {
        "id": "XderpNFAU5yT"
      },
      "source": [
        "The *length* of a list can be accessed by the len command."
      ]
    },
    {
      "cell_type": "code",
      "metadata": {
        "id": "-xjzFOxWU5yT",
        "colab": {
          "base_uri": "https://localhost:8080/"
        },
        "outputId": "7000455e-1201-41cb-b584-160c9d535cf2"
      },
      "source": [
        "len([2,4,6])"
      ],
      "execution_count": null,
      "outputs": [
        {
          "output_type": "execute_result",
          "data": {
            "text/plain": [
              "3"
            ]
          },
          "metadata": {
            "tags": []
          },
          "execution_count": 2
        }
      ]
    },
    {
      "cell_type": "code",
      "metadata": {
        "id": "1IG2dOJeU5yT",
        "colab": {
          "base_uri": "https://localhost:8080/"
        },
        "outputId": "e19ba55d-ac12-4012-a0a5-6c7d33f3ad27"
      },
      "source": [
        "len(range(10))  # The len command can deal with lists and ranges.  No need to convert."
      ],
      "execution_count": null,
      "outputs": [
        {
          "output_type": "execute_result",
          "data": {
            "text/plain": [
              "10"
            ]
          },
          "metadata": {
            "tags": []
          },
          "execution_count": 3
        }
      ]
    },
    {
      "cell_type": "code",
      "metadata": {
        "id": "N9lCN8-bU5yT",
        "colab": {
          "base_uri": "https://localhost:8080/"
        },
        "outputId": "fc498e7e-7641-47b5-9b47-6a481fc5d5a2"
      },
      "source": [
        "len(range(10,100)) # Can you figure out the length, before evaluating?"
      ],
      "execution_count": null,
      "outputs": [
        {
          "output_type": "execute_result",
          "data": {
            "text/plain": [
              "90"
            ]
          },
          "metadata": {
            "tags": []
          },
          "execution_count": 4
        }
      ]
    },
    {
      "cell_type": "markdown",
      "metadata": {
        "id": "zW4aiYaAU5yT"
      },
      "source": [
        "The final variant of the range command (for now) is the *three-parameter* command of the form `range(a,b,s)`.  This produces a list like `range(a,b)`, but with a \"step size\" of `s`.  In other words, it produces a list of integers, beginning at `a`, increasing by `s` from one entry to the next, and going up to (but not including) `b`.  It is best to experiment a bit to get the feel for it!"
      ]
    },
    {
      "cell_type": "code",
      "metadata": {
        "id": "RjmZQRmtU5yT",
        "colab": {
          "base_uri": "https://localhost:8080/"
        },
        "outputId": "a9c2c543-9752-40f5-9da9-f6e84b5d91ee"
      },
      "source": [
        "list(range(1,10,2))"
      ],
      "execution_count": null,
      "outputs": [
        {
          "output_type": "execute_result",
          "data": {
            "text/plain": [
              "[1, 3, 5, 7, 9]"
            ]
          },
          "metadata": {
            "tags": []
          },
          "execution_count": 5
        }
      ]
    },
    {
      "cell_type": "code",
      "metadata": {
        "id": "UX91kNpoU5yT",
        "colab": {
          "base_uri": "https://localhost:8080/"
        },
        "outputId": "8db85ef4-2b48-4ea1-d55f-b1843ed2a073"
      },
      "source": [
        "list(range(11,30,2))"
      ],
      "execution_count": null,
      "outputs": [
        {
          "output_type": "execute_result",
          "data": {
            "text/plain": [
              "[11, 13, 15, 17, 19, 21, 23, 25, 27, 29]"
            ]
          },
          "metadata": {
            "tags": []
          },
          "execution_count": 6
        }
      ]
    },
    {
      "cell_type": "code",
      "metadata": {
        "id": "cU6TYerPU5yU",
        "colab": {
          "base_uri": "https://localhost:8080/"
        },
        "outputId": "38b93345-99a7-4f1f-cc93-f6b45807fbe9"
      },
      "source": [
        "list(range(-4,5,3))"
      ],
      "execution_count": null,
      "outputs": [
        {
          "output_type": "execute_result",
          "data": {
            "text/plain": [
              "[-4, -1, 2]"
            ]
          },
          "metadata": {
            "tags": []
          },
          "execution_count": 7
        }
      ]
    },
    {
      "cell_type": "code",
      "metadata": {
        "id": "_RueWhdHU5yU",
        "colab": {
          "base_uri": "https://localhost:8080/"
        },
        "outputId": "b419d52f-5f86-422d-de9d-850223321b13"
      },
      "source": [
        "list(range(10,100,17))"
      ],
      "execution_count": null,
      "outputs": [
        {
          "output_type": "execute_result",
          "data": {
            "text/plain": [
              "[10, 27, 44, 61, 78, 95]"
            ]
          },
          "metadata": {
            "tags": []
          },
          "execution_count": 8
        }
      ]
    },
    {
      "cell_type": "markdown",
      "metadata": {
        "id": "I3otAH2AU5yU"
      },
      "source": [
        "This can be used for descending ranges too, and observe that the final number b in range(a,b,s) is not included."
      ]
    },
    {
      "cell_type": "code",
      "metadata": {
        "id": "LVm1djsTU5yU"
      },
      "source": [
        "list(range(10,0,-1)) "
      ],
      "execution_count": null,
      "outputs": []
    },
    {
      "cell_type": "markdown",
      "metadata": {
        "id": "Jp1V-X59U5yU"
      },
      "source": [
        "How many multiples of 7 are between 10 and 100?  We can find out pretty quickly with the range command and the len command (to count)."
      ]
    },
    {
      "cell_type": "code",
      "metadata": {
        "id": "roA4gLoXU5yU",
        "colab": {
          "base_uri": "https://localhost:8080/"
        },
        "outputId": "0e98e459-8855-4422-f984-ce72aee2d406"
      },
      "source": [
        "list(range(10,100,7))  # What list will this create?  It won't answer the question..."
      ],
      "execution_count": null,
      "outputs": [
        {
          "output_type": "execute_result",
          "data": {
            "text/plain": [
              "[10, 17, 24, 31, 38, 45, 52, 59, 66, 73, 80, 87, 94]"
            ]
          },
          "metadata": {
            "tags": []
          },
          "execution_count": 10
        }
      ]
    },
    {
      "cell_type": "code",
      "metadata": {
        "id": "jybN-evPU5yU",
        "colab": {
          "base_uri": "https://localhost:8080/"
        },
        "outputId": "a04ae979-b9d2-4b4e-b558-7bbc70f25f08"
      },
      "source": [
        "list(range(14,100,7))  # Starting at 14 gives the multiples of 7."
      ],
      "execution_count": null,
      "outputs": [
        {
          "output_type": "execute_result",
          "data": {
            "text/plain": [
              "[14, 21, 28, 35, 42, 49, 56, 63, 70, 77, 84, 91, 98]"
            ]
          },
          "metadata": {
            "tags": []
          },
          "execution_count": 11
        }
      ]
    },
    {
      "cell_type": "code",
      "metadata": {
        "id": "BdvLmGljU5yU",
        "colab": {
          "base_uri": "https://localhost:8080/"
        },
        "outputId": "8aae788d-2087-41fa-c8a8-70e58b991eed"
      },
      "source": [
        "len(range(300,3001,3))  # Gives the length of the list, and answers the question!"
      ],
      "execution_count": null,
      "outputs": [
        {
          "output_type": "execute_result",
          "data": {
            "text/plain": [
              "901"
            ]
          },
          "metadata": {
            "tags": []
          },
          "execution_count": 26
        }
      ]
    },
    {
      "cell_type": "markdown",
      "metadata": {
        "id": "dMbcJV5UU5yU"
      },
      "source": [
        "### Exercises\n",
        "\n",
        "1.  If `a` and `b` are integers, what is the length of `range(a,b)`?  Express your answer as a formula involving `a` and `b`.\n",
        "\n",
        "2.  Use a list and range command to produce the list `[1,2,3,4,5,6,7,8,9,10]`.\n",
        "\n",
        "3.  Create the list `[1,2,3,4,5,1,2,3,4,5,1,2,3,4,5,1,2,3,4,5,1,2,3,4,5]` with a single list and range command and another operation.\n",
        "\n",
        "4.  How many multiples of 3 are there between 300 and 3000 (including 300 and 3000)?"
      ]
    },
    {
      "cell_type": "code",
      "metadata": {
        "id": "4HKDVcFVU5yU"
      },
      "source": [
        "len(range(a,b))\n",
        "\n"
      ],
      "execution_count": null,
      "outputs": []
    },
    {
      "cell_type": "code",
      "metadata": {
        "id": "YxNqdrKyvovg",
        "colab": {
          "base_uri": "https://localhost:8080/"
        },
        "outputId": "58912b8a-268a-440d-bdda-081f78875b68"
      },
      "source": [
        " list(range(1,11))"
      ],
      "execution_count": 56,
      "outputs": [
        {
          "output_type": "execute_result",
          "data": {
            "text/plain": [
              "[1, 2, 3, 4, 5, 6, 7, 8, 9, 10]"
            ]
          },
          "metadata": {
            "tags": []
          },
          "execution_count": 56
        }
      ]
    },
    {
      "cell_type": "code",
      "metadata": {
        "id": "Lr47bnIJvohz",
        "colab": {
          "base_uri": "https://localhost:8080/"
        },
        "outputId": "b6e6b246-50e0-434a-ff3c-af56710fafd7"
      },
      "source": [
        "list(range(1,6))*5"
      ],
      "execution_count": 57,
      "outputs": [
        {
          "output_type": "execute_result",
          "data": {
            "text/plain": [
              "[1, 2, 3, 4, 5, 1, 2, 3, 4, 5, 1, 2, 3, 4, 5, 1, 2, 3, 4, 5, 1, 2, 3, 4, 5]"
            ]
          },
          "metadata": {
            "tags": []
          },
          "execution_count": 57
        }
      ]
    },
    {
      "cell_type": "code",
      "metadata": {
        "id": "pyQODhhfvoN4",
        "colab": {
          "base_uri": "https://localhost:8080/"
        },
        "outputId": "b8461c7a-43fb-44b5-8aec-557d176a3cb2"
      },
      "source": [
        "len(range(300,3001,3)) "
      ],
      "execution_count": 59,
      "outputs": [
        {
          "output_type": "execute_result",
          "data": {
            "text/plain": [
              "901"
            ]
          },
          "metadata": {
            "tags": []
          },
          "execution_count": 59
        }
      ]
    },
    {
      "cell_type": "markdown",
      "metadata": {
        "id": "ccSW2BGyU5yV"
      },
      "source": [
        "# Iterating over a range"
      ]
    },
    {
      "cell_type": "markdown",
      "metadata": {
        "id": "qoOhvB1rU5yV"
      },
      "source": [
        "Computers are excellent at repetitive reliable tasks.  If we wish to perform a similar computation, many times over, a computer a great tool.  Here we look at a common and simple way to carry out a repetetive computation:  the \"for loop\".  The \"for loop\" *iterates* through items in a list or range, carrying out some action for each item.  Two examples will illustrate."
      ]
    },
    {
      "cell_type": "code",
      "metadata": {
        "id": "mwdKBi3kU5yV",
        "colab": {
          "base_uri": "https://localhost:8080/"
        },
        "outputId": "a3b85c34-7dd3-4f5f-c418-f28d7f3c3bdb"
      },
      "source": [
        "for n in [1,2,3,4,5]:\n",
        "    print(n*n)"
      ],
      "execution_count": null,
      "outputs": [
        {
          "output_type": "stream",
          "text": [
            "1\n",
            "4\n",
            "9\n",
            "16\n",
            "25\n"
          ],
          "name": "stdout"
        }
      ]
    },
    {
      "cell_type": "code",
      "metadata": {
        "id": "HC031A4LU5yV",
        "colab": {
          "base_uri": "https://localhost:8080/"
        },
        "outputId": "0a9e48a0-142c-45f8-b1ba-5b919cf9dd91"
      },
      "source": [
        "for s in ['I','Am','Python']:\n",
        "    print(s + \"!\")"
      ],
      "execution_count": null,
      "outputs": [
        {
          "output_type": "stream",
          "text": [
            "I!\n",
            "Am!\n",
            "Python!\n"
          ],
          "name": "stdout"
        }
      ]
    },
    {
      "cell_type": "markdown",
      "metadata": {
        "id": "yuctH9OZU5yV"
      },
      "source": [
        "The first loop, **unraveled**, carries out the following sequence of commands."
      ]
    },
    {
      "cell_type": "code",
      "metadata": {
        "id": "UY4izCfvU5yV",
        "colab": {
          "base_uri": "https://localhost:8080/"
        },
        "outputId": "52343096-7ce0-4321-d304-da601d2a741f"
      },
      "source": [
        "n = 1\n",
        "print(n*n)\n",
        "n = 2\n",
        "print(n*n)\n",
        "n = 3\n",
        "print(n*n)\n",
        "n = 4\n",
        "print(n*n)\n",
        "n = 5\n",
        "print(n*n)"
      ],
      "execution_count": null,
      "outputs": [
        {
          "output_type": "stream",
          "text": [
            "1\n",
            "4\n",
            "9\n",
            "16\n",
            "25\n"
          ],
          "name": "stdout"
        }
      ]
    },
    {
      "cell_type": "markdown",
      "metadata": {
        "id": "IgnUBVI0U5yV"
      },
      "source": [
        "But the \"for loop\" is more efficient *and* more readable to programmers.  Indeed, it saves the repetition of writing the same command `print(n*n)` over and over again.  It also makes transparent, from the beginning, the range of values that `n` is assigned to.  \n",
        "\n",
        "When you read and write \"for loops\", you should consider how they look unravelled -- that is how Python will carry out the loop.  And when you find yourself faced with a repetetive task, you might consider whether it may be wrapped up in a for loop.  Most of the time, you should try to write code that *never repeats* the same task.  If there is repetition, wrap it in a loop."
      ]
    },
    {
      "cell_type": "markdown",
      "metadata": {
        "id": "M16fubaDU5yV"
      },
      "source": [
        "Try to unravel the loop below, and predict the result, before evaluating the code."
      ]
    },
    {
      "cell_type": "code",
      "metadata": {
        "id": "vOyvFfJcU5yW",
        "colab": {
          "base_uri": "https://localhost:8080/"
        },
        "outputId": "95c7642c-9c48-404d-cb00-c80bf3ac9f5c"
      },
      "source": [
        "P = 1\n",
        "for n in range(1,6):\n",
        "    P = P * n\n",
        "print(P)"
      ],
      "execution_count": null,
      "outputs": [
        {
          "output_type": "stream",
          "text": [
            "120\n"
          ],
          "name": "stdout"
        }
      ]
    },
    {
      "cell_type": "markdown",
      "metadata": {
        "id": "I79mIz44U5yW"
      },
      "source": [
        "This might have been difficult!  So what if you want to trace through the loop, as it goes?  Sometimes, especially when debugging, it's useful to inspect every step of the loop to see what Python is doing.  We can inspect the loop above, by inserting a print command within the *scope* of the loop."
      ]
    },
    {
      "cell_type": "code",
      "metadata": {
        "id": "C6bVCkZdU5yW",
        "colab": {
          "base_uri": "https://localhost:8080/"
        },
        "outputId": "475bcbf7-f913-48a4-88e9-d6c32bfad638"
      },
      "source": [
        "P = 1\n",
        "for n in range(1,6):\n",
        "    P = P * n\n",
        "    print(\"n is\",n,\"and P is\",P)\n",
        "print(P)"
      ],
      "execution_count": null,
      "outputs": [
        {
          "output_type": "stream",
          "text": [
            "n is 1 and P is 1\n",
            "n is 2 and P is 2\n",
            "n is 3 and P is 6\n",
            "n is 4 and P is 24\n",
            "n is 5 and P is 120\n",
            "120\n"
          ],
          "name": "stdout"
        }
      ]
    },
    {
      "cell_type": "markdown",
      "metadata": {
        "id": "y8kjJUJAU5yW"
      },
      "source": [
        "Here we have used the *print* command with strings and numbers together.  In Python 3.x, you can print multiple things on the same line by separating them by commas.  The \"things\" can be strings (enclosed by single or double-quotes) and numbers (int, float, etc.)."
      ]
    },
    {
      "cell_type": "code",
      "metadata": {
        "id": "wUu0BH2lU5yW",
        "colab": {
          "base_uri": "https://localhost:8080/"
        },
        "outputId": "02f47352-9b3c-4fc6-bdd3-5f2bc722cd17"
      },
      "source": [
        "print(\"My favorite number is\",17)"
      ],
      "execution_count": null,
      "outputs": [
        {
          "output_type": "stream",
          "text": [
            "My favorite number is 17\n"
          ],
          "name": "stdout"
        }
      ]
    },
    {
      "cell_type": "markdown",
      "metadata": {
        "id": "TPCXSm1LU5yW"
      },
      "source": [
        "If we unravel the loop above, the linear sequence of commands interpreted by Python is the following."
      ]
    },
    {
      "cell_type": "code",
      "metadata": {
        "id": "KzUl3ac7U5yW"
      },
      "source": [
        "P = 1\n",
        "n = 1\n",
        "P = P * n\n",
        "print(\"n is\",n,\"and P is\",P)\n",
        "n = 2\n",
        "P = P * n\n",
        "print(\"n is\",n,\"and P is\",P)\n",
        "n = 3\n",
        "P = P * n\n",
        "print(\"n is\",n,\"and P is\",P)\n",
        "n = 4\n",
        "P = P * n\n",
        "print(\"n is\",n,\"and P is\",P)\n",
        "n = 5\n",
        "P = P * n\n",
        "print(\"n is\",n,\"and P is\",P)\n",
        "print (P)"
      ],
      "execution_count": null,
      "outputs": []
    },
    {
      "cell_type": "markdown",
      "metadata": {
        "id": "44_u1MSrU5yW"
      },
      "source": [
        "Let's analyze the loop syntax in more detail.  \n",
        "```python\n",
        "P = 1\n",
        "for n in range(1,6):\n",
        "    P = P * n  # this command is in the scope of the loop.\n",
        "    print(\"n is\",n,\"and P is\",P)  # this command is in the scope of the loop too!\n",
        "print(P)\n",
        "```\n",
        "The \"for\" command ends with a colon `:`, and the **next two** lines are indented.  The colon and indentation are indicators of **scope**.  The *scope* of the for loop begins after the colon, and includes all indented lines.  The *scope* of the for loop is what is repeated in every step of the loop (in addition to the reassignment of `n`).  "
      ]
    },
    {
      "cell_type": "code",
      "metadata": {
        "id": "jE003_YTU5yW",
        "colab": {
          "base_uri": "https://localhost:8080/"
        },
        "outputId": "b4789efb-6fa5-469a-d9e2-ab244d04df6e"
      },
      "source": [
        "P = 1\n",
        "for n in range(1,6):\n",
        "    P = P * n  # this command is in the scope of the loop.\n",
        "    print(\"n is\",n,\"and P is\",P)  # this command is in the scope of the loop too!\n",
        "print(P)"
      ],
      "execution_count": null,
      "outputs": [
        {
          "output_type": "stream",
          "text": [
            "n is 1 and P is 1\n",
            "n is 2 and P is 2\n",
            "n is 3 and P is 6\n",
            "n is 4 and P is 24\n",
            "n is 5 and P is 120\n",
            "120\n"
          ],
          "name": "stdout"
        }
      ]
    },
    {
      "cell_type": "markdown",
      "metadata": {
        "id": "8wXaf4hxU5yW"
      },
      "source": [
        "If we change the indentation, it changes the scope of the for loop.  Predict what the following loop will do, by unraveling, before evaluating it."
      ]
    },
    {
      "cell_type": "code",
      "metadata": {
        "id": "F_FcpC5QU5yX",
        "colab": {
          "base_uri": "https://localhost:8080/"
        },
        "outputId": "effb8a15-7ff8-4c8f-a6c2-9d0e1ff660ef"
      },
      "source": [
        "P = 1\n",
        "for n in range(1,6):\n",
        "    P = P * n\n",
        "print(\"n is\",n,\"and P is\",P)\n",
        "print(P)"
      ],
      "execution_count": null,
      "outputs": [
        {
          "output_type": "stream",
          "text": [
            "n is 5 and P is 120\n",
            "120\n"
          ],
          "name": "stdout"
        }
      ]
    },
    {
      "cell_type": "markdown",
      "metadata": {
        "id": "__tEmpKPU5yX"
      },
      "source": [
        "Scopes can be nested by nesting indentation.  What do you think the following loop will do?  Can you unravel it?"
      ]
    },
    {
      "cell_type": "code",
      "metadata": {
        "id": "9fboPJdAU5yX",
        "colab": {
          "base_uri": "https://localhost:8080/"
        },
        "outputId": "9ef417d5-157e-4cb4-85a9-2c3fe48bbdd9"
      },
      "source": [
        "for x in [1,2,3]:\n",
        "    for y in ['a', 'b']:\n",
        "        print(x,y)"
      ],
      "execution_count": null,
      "outputs": [
        {
          "output_type": "stream",
          "text": [
            "1 a\n",
            "1 b\n",
            "2 a\n",
            "2 b\n",
            "3 a\n",
            "3 b\n"
          ],
          "name": "stdout"
        }
      ]
    },
    {
      "cell_type": "markdown",
      "metadata": {
        "id": "HmXwPykdU5yX"
      },
      "source": [
        "How might you create a nested loop which prints `1 a` then `2 a` then `3 a` then `1 b` then `2 b` then `3 b`?  Try it below."
      ]
    },
    {
      "cell_type": "code",
      "metadata": {
        "id": "b97leVdkU5yX",
        "colab": {
          "base_uri": "https://localhost:8080/"
        },
        "outputId": "57f259d1-c06a-448c-a089-b233ff8c7548"
      },
      "source": [
        "for x in [1,2,3]:\n",
        "    for y in ['a']:\n",
        "      print(x,y)\n",
        "for x in [1,2,3]:\n",
        "    for y in ['b']:\n",
        "      print(x,y)"
      ],
      "execution_count": null,
      "outputs": [
        {
          "output_type": "stream",
          "text": [
            "1 a\n",
            "2 a\n",
            "3 a\n",
            "1 b\n",
            "2 b\n",
            "3 b\n"
          ],
          "name": "stdout"
        }
      ]
    },
    {
      "cell_type": "markdown",
      "metadata": {
        "id": "ofCBY24EU5yX"
      },
      "source": [
        "Among popular programming languages, Python is particular about indentation.  Other languages indicate scope with open/close braces, for example, and indentation is just a matter of style.  By requiring indentation to indicate scope, Python effectively removes the need for open/close braces, and enforces a readable style.\n",
        "\n",
        "We have now encountered data types, operations, variables, and loops.  Taken together, these are powerful tools for computation!  Now complete the following exercises for more practice."
      ]
    },
    {
      "cell_type": "markdown",
      "metadata": {
        "id": "JBr_HgrSU5yX"
      },
      "source": [
        "## Exercises"
      ]
    },
    {
      "cell_type": "markdown",
      "metadata": {
        "id": "FEQTm_WZU5yX"
      },
      "source": [
        "1.  Describe how Python interprets division with remainder when the divisor and/or dividend is negative.\n",
        "2.  What is the remainder when $2^{90}$ is divided by $91$?\n",
        "3.  How many multiples of 13 are there between 1 and 1000?\n",
        "4.  How many *odd* multiples of 13 are there between 1 and 1000?\n",
        "5.  What is the sum of the numbers from 1 to 1000?\n",
        "6.  What is the sum of the squares, from $1 \\cdot 1$ to $1000 \\cdot 1000$?\n",
        "7.  Euler proved that\n",
        "$$\\frac{1}{1^4} + \\frac{1}{2^4} + \\frac{1}{3^4} + \\cdots = \\frac{\\pi^4}{C},$$\n",
        "for some positive integer $C$.  Use Python to guess what $C$ is."
      ]
    },
    {
      "cell_type": "code",
      "metadata": {
        "id": "F870MLhKU5yX"
      },
      "source": [
        " #  when the dividend is negative, the remainder obtained is positive. This is because, the quotient is also negative, but instead of obtaining the lower quotient, it is the obove one. For example\n",
        "-10%3 #is 2. That is because 3*-4+2 is -10. The quotient is required to remain negaive if the divisor or dividend is negative. \n",
        "#  If the divisor is negative, as the quotient is also negative, followung the same procedure, the remainder is positive. For example, \n",
        "10%-3 #is -2. That is because, -3*-4-2=10.\n",
        "\n"
      ],
      "execution_count": null,
      "outputs": []
    },
    {
      "cell_type": "code",
      "metadata": {
        "colab": {
          "base_uri": "https://localhost:8080/"
        },
        "id": "8eX7MOeHwBdR",
        "outputId": "f4f47211-db51-4a50-9d0e-5fe691f72137"
      },
      "source": [
        "(2**90)/91 # is appoximately 1.360"
      ],
      "execution_count": null,
      "outputs": [
        {
          "output_type": "execute_result",
          "data": {
            "text/plain": [
              "1.360373669544374e+25"
            ]
          },
          "metadata": {
            "tags": []
          },
          "execution_count": 2
        }
      ]
    },
    {
      "cell_type": "code",
      "metadata": {
        "id": "c4Fd2caCwBVO"
      },
      "source": [
        "len(range(1,1000,13))  # is 77"
      ],
      "execution_count": null,
      "outputs": []
    },
    {
      "cell_type": "code",
      "metadata": {
        "id": "L0ZRREOiv_LZ"
      },
      "source": [
        "# as 13 is an odd number, every other multiple of 13 is an odd multiple, and since there are 77 multiple in total, the number of odd multiples is \n",
        "(77+1)/2 #which is 39"
      ],
      "execution_count": null,
      "outputs": []
    },
    {
      "cell_type": "code",
      "metadata": {
        "id": "_zF0iuFKv_BS"
      },
      "source": [
        "P=1\n",
        "for n in range(1,1001):\n",
        "    P = P + n\n",
        "print(P)\n",
        "# sum of first 1000 natural numbers is 500501"
      ],
      "execution_count": null,
      "outputs": []
    },
    {
      "cell_type": "code",
      "metadata": {
        "id": "ReUYvOXQv-y9"
      },
      "source": [
        "P=1\n",
        "for n in range(1,1001):\n",
        "    P = P+(n*n)\n",
        "print(P)"
      ],
      "execution_count": null,
      "outputs": []
    },
    {
      "cell_type": "code",
      "metadata": {
        "colab": {
          "base_uri": "https://localhost:8080/"
        },
        "id": "6cmGYRTlL0GP",
        "outputId": "1e879e6b-abaa-4ec3-d494-7b4bf7fde27a"
      },
      "source": [
        "P=0\n",
        "for n in range(1,10001):\n",
        "    P = P + (n**4)**-1\n",
        "print(P)\n",
        "import numpy as np\n",
        "C=np.pi**4/P\n",
        "print(C)"
      ],
      "execution_count": null,
      "outputs": [
        {
          "output_type": "stream",
          "text": [
            "90.00000000002302\n"
          ],
          "name": "stdout"
        }
      ]
    },
    {
      "cell_type": "markdown",
      "metadata": {
        "id": "nS9xYcpCU5yY"
      },
      "source": [
        "# Explorations\n",
        "\n",
        "Now that you have learned the basics of computation in Python and loops, we can start exploring some interesting mathematics!  We are going to look at approximation here -- some ancient questions made easier with programming."
      ]
    },
    {
      "cell_type": "markdown",
      "metadata": {
        "id": "IfPCPAu5U5yY"
      },
      "source": [
        "## Exploration 1:  Approximating square roots.\n",
        "\n",
        "We have seen how Python can do basic arithmetic -- addition, subtraction, multiplication, and division.  But what about other functions, like the square root?  In fact, Python offers a few functions for the square root, but that's not the point.  How can we compute the square root using only basic arithmetic?  \n",
        "\n",
        "Why might we care?\n",
        "\n",
        "1.  We might want to know the square root of a number with more precision than the Python function offers.\n",
        "2.  We might want to understand how the square root is computed... under the hood.\n",
        "3.  Understanding approximations of square roots and other functions is important, because we might want to approximate other functions in the future (that aren't pre-programmed for us).\n",
        "\n",
        "Here is a method for approximating the square root of a number $X$.\n",
        "\n",
        "1.  Begin with a guess $g$.\n",
        "2.  Observe that $g \\cdot (X / g) = X$.  Therefore, among the two numbers $g$ and $(X/g)$, one will be less than or equal to the square root of X, and the other will be greater than or equal to the square root.\n",
        "3.  Take the average of $g$ and $(X/g)$.  This will be closer to the square root than $g$ or $X/g$ (unless your guess is exactly right!) \n",
        "4.  Use this average as a new guess... and go back to the beginning.\n",
        "\n",
        "Now implement this in Python to approximate the square root of 2.  Use a loop, so that you can go through the approximation process 10 times or 100 times or however many you wish.  Explore the effect of different starting guesses.  Would a change in the averaging function improve the approximation?  How quickly does this converge?  How does this change if you try square roots of different positive numbers?\n",
        "\n",
        "Write your code (Python) and findings (in Markdown cells) in a readable form.  Answer the questions in complete sentences.\n",
        "\n"
      ]
    },
    {
      "cell_type": "code",
      "metadata": {
        "id": "PoGqUlqoU5yY",
        "colab": {
          "base_uri": "https://localhost:8080/"
        },
        "outputId": "dd21373f-b686-46ed-d53e-a64484a60922"
      },
      "source": [
        "g=1.5 \n",
        "for X in range(0,100):\n",
        "  g=(g+(2/g))/2\n",
        "  print(\"g is\",g)\n",
        "print(g)\n",
        "\n",
        "\n"
      ],
      "execution_count": 18,
      "outputs": [
        {
          "output_type": "stream",
          "text": [
            "g is 1.4166666666666665\n",
            "g is 1.4142156862745097\n",
            "g is 1.4142135623746899\n",
            "g is 1.414213562373095\n",
            "g is 1.414213562373095\n",
            "g is 1.414213562373095\n",
            "g is 1.414213562373095\n",
            "g is 1.414213562373095\n",
            "g is 1.414213562373095\n",
            "g is 1.414213562373095\n",
            "g is 1.414213562373095\n",
            "g is 1.414213562373095\n",
            "g is 1.414213562373095\n",
            "g is 1.414213562373095\n",
            "g is 1.414213562373095\n",
            "g is 1.414213562373095\n",
            "g is 1.414213562373095\n",
            "g is 1.414213562373095\n",
            "g is 1.414213562373095\n",
            "g is 1.414213562373095\n",
            "g is 1.414213562373095\n",
            "g is 1.414213562373095\n",
            "g is 1.414213562373095\n",
            "g is 1.414213562373095\n",
            "g is 1.414213562373095\n",
            "g is 1.414213562373095\n",
            "g is 1.414213562373095\n",
            "g is 1.414213562373095\n",
            "g is 1.414213562373095\n",
            "g is 1.414213562373095\n",
            "g is 1.414213562373095\n",
            "g is 1.414213562373095\n",
            "g is 1.414213562373095\n",
            "g is 1.414213562373095\n",
            "g is 1.414213562373095\n",
            "g is 1.414213562373095\n",
            "g is 1.414213562373095\n",
            "g is 1.414213562373095\n",
            "g is 1.414213562373095\n",
            "g is 1.414213562373095\n",
            "g is 1.414213562373095\n",
            "g is 1.414213562373095\n",
            "g is 1.414213562373095\n",
            "g is 1.414213562373095\n",
            "g is 1.414213562373095\n",
            "g is 1.414213562373095\n",
            "g is 1.414213562373095\n",
            "g is 1.414213562373095\n",
            "g is 1.414213562373095\n",
            "g is 1.414213562373095\n",
            "g is 1.414213562373095\n",
            "g is 1.414213562373095\n",
            "g is 1.414213562373095\n",
            "g is 1.414213562373095\n",
            "g is 1.414213562373095\n",
            "g is 1.414213562373095\n",
            "g is 1.414213562373095\n",
            "g is 1.414213562373095\n",
            "g is 1.414213562373095\n",
            "g is 1.414213562373095\n",
            "g is 1.414213562373095\n",
            "g is 1.414213562373095\n",
            "g is 1.414213562373095\n",
            "g is 1.414213562373095\n",
            "g is 1.414213562373095\n",
            "g is 1.414213562373095\n",
            "g is 1.414213562373095\n",
            "g is 1.414213562373095\n",
            "g is 1.414213562373095\n",
            "g is 1.414213562373095\n",
            "g is 1.414213562373095\n",
            "g is 1.414213562373095\n",
            "g is 1.414213562373095\n",
            "g is 1.414213562373095\n",
            "g is 1.414213562373095\n",
            "g is 1.414213562373095\n",
            "g is 1.414213562373095\n",
            "g is 1.414213562373095\n",
            "g is 1.414213562373095\n",
            "g is 1.414213562373095\n",
            "g is 1.414213562373095\n",
            "g is 1.414213562373095\n",
            "g is 1.414213562373095\n",
            "g is 1.414213562373095\n",
            "g is 1.414213562373095\n",
            "g is 1.414213562373095\n",
            "g is 1.414213562373095\n",
            "g is 1.414213562373095\n",
            "g is 1.414213562373095\n",
            "g is 1.414213562373095\n",
            "g is 1.414213562373095\n",
            "g is 1.414213562373095\n",
            "g is 1.414213562373095\n",
            "g is 1.414213562373095\n",
            "g is 1.414213562373095\n",
            "g is 1.414213562373095\n",
            "g is 1.414213562373095\n",
            "g is 1.414213562373095\n",
            "g is 1.414213562373095\n",
            "g is 1.414213562373095\n",
            "1.414213562373095\n"
          ],
          "name": "stdout"
        }
      ]
    },
    {
      "cell_type": "markdown",
      "metadata": {
        "id": "gHxmSYaoc8v0"
      },
      "source": [
        "Describe your findings here."
      ]
    },
    {
      "cell_type": "markdown",
      "metadata": {
        "id": "fOUbCcfxU5yY"
      },
      "source": [
        "## Exploration 2:  Approximating e and pi.\n",
        "\n",
        "Now we approximate two of the most important constants in mathematics:  e and pi.  There are multiple approaches, but e is pretty easy with the series expansion of e^x.  First, approximate e by evaluating the Taylor series expansion of e^x at x=1.  I.e., remember from calculus that\n",
        "$$e^x = 1 + x + \\frac{1}{2} x^2 + \\frac{1}{3!} x^3 + \\frac{1}{4!} x^4 + \\cdots.$$\n",
        "How many terms are necessary before the float stabilizes?  Use a loop, with a running product for the factorials and running sums for the series."
      ]
    },
    {
      "cell_type": "code",
      "metadata": {
        "id": "cH0ApCftU5yY",
        "colab": {
          "base_uri": "https://localhost:8080/"
        },
        "outputId": "979cf3c0-5f2d-4343-b560-7a98cdfeea4f"
      },
      "source": [
        "\n",
        "\n",
        "import math\n",
        "\n",
        "P=0\n",
        "for n in range(10):\n",
        "  P=P+1**n/math.factorial(n)\n",
        "  print(P)\n",
        "print(\"{0}={1}\".format(\"e\",P))  \n",
        "\n",
        "\n",
        "            \n",
        "\n",
        "\n",
        "#  Approximate e here."
      ],
      "execution_count": 25,
      "outputs": [
        {
          "output_type": "stream",
          "text": [
            "1.0\n",
            "2.0\n",
            "2.5\n",
            "2.6666666666666665\n",
            "2.708333333333333\n",
            "2.7166666666666663\n",
            "2.7180555555555554\n",
            "2.7182539682539684\n",
            "2.71827876984127\n",
            "2.7182815255731922\n",
            "e=2.7182815255731922\n"
          ],
          "name": "stdout"
        }
      ]
    },
    {
      "cell_type": "markdown",
      "metadata": {
        "id": "YYhT-tDRU5yY"
      },
      "source": [
        "Next we will approximate pi, which is much more interesting.  We can try a few approaches.  For a series-approach (like e), we need a series that converges to pi.  A simple example is the arctangent atan(x).  Recall (precalculus!) that $atan(1) = \\pi/4$.  Moreover, the derivative of $atan(x)$ is $1 / (1+x^2)$.  \n",
        "\n",
        "1.  Figure out the Taylor series of $1 / (1+x^2)$ near $x=0$.  Note that this is a geometric series! \n",
        "\n",
        "2.  Figure out the Taylor series of $atan(x)$ near $x=0$ by taking the antiderivative, term by term, of the above.\n",
        "\n",
        "3.  Try to estimate $\\pi$ with this series, using many terms of the series."
      ]
    },
    {
      "cell_type": "code",
      "metadata": {
        "id": "wYlwMQxBU5yY",
        "colab": {
          "base_uri": "https://localhost:8080/"
        },
        "outputId": "772087d2-3344-4ab1-dcc1-0881899c3778"
      },
      "source": [
        "P=0\n",
        "b=4\n",
        "for n in range(1000):\n",
        "  P=P+(b/(n*2+1))*(-1)**n\n",
        "  print(P)\n",
        "print(\"{0}={1}\".format(\"pi\",P))\n",
        "\n",
        "  \n",
        "#  Approximate pi here!"
      ],
      "execution_count": 39,
      "outputs": [
        {
          "output_type": "stream",
          "text": [
            "4.0\n",
            "2.666666666666667\n",
            "3.466666666666667\n",
            "2.8952380952380956\n",
            "3.3396825396825403\n",
            "2.9760461760461765\n",
            "3.2837384837384844\n",
            "3.017071817071818\n",
            "3.2523659347188767\n",
            "3.0418396189294032\n",
            "3.232315809405594\n",
            "3.058402765927333\n",
            "3.2184027659273333\n",
            "3.0702546177791854\n",
            "3.208185652261944\n",
            "3.079153394197428\n",
            "3.200365515409549\n",
            "3.0860798011238346\n",
            "3.1941879092319425\n",
            "3.09162380666784\n",
            "3.189184782277596\n",
            "3.0961615264636424\n",
            "3.1850504153525314\n",
            "3.099944032373808\n",
            "3.1815766854350325\n",
            "3.1031453128860127\n",
            "3.1786170109992202\n",
            "3.1058897382719475\n",
            "3.1760651768684385\n",
            "3.108268566698947\n",
            "3.1738423371907505\n",
            "3.110350273698687\n",
            "3.1718887352371485\n",
            "3.112187242699835\n",
            "3.1701582571925884\n",
            "3.1138202290235744\n",
            "3.1686147495715193\n",
            "3.115281416238186\n",
            "3.167229468186238\n",
            "3.116596556793833\n",
            "3.1659792728432157\n",
            "3.117786501758878\n",
            "3.1648453252882898\n",
            "3.118868313794037\n",
            "3.163812134018756\n",
            "3.1198560900627124\n",
            "3.1628668427508844\n",
            "3.1207615795929895\n",
            "3.161998692995051\n",
            "3.121594652591011\n",
            "3.1611986129870506\n",
            "3.12236366153074\n",
            "3.160458899625978\n",
            "3.1230757220558845\n",
            "3.1597729697623063\n",
            "3.12373693372627\n",
            "3.159135163814766\n",
            "3.124352555119114\n",
            "3.158540589307148\n",
            "3.1249271439289967\n",
            "3.157984995168666\n",
            "3.125464669965414\n",
            "3.157464669965414\n",
            "3.125968606973288\n",
            "3.1569763589112725\n",
            "3.1264420077662343\n",
            "3.156517195736159\n",
            "3.126887566106529\n",
            "3.1560846463985\n",
            "3.127307667981234\n",
            "3.155676462307475\n",
            "3.127704434335447\n",
            "3.155290641231999\n",
            "3.1280797568782575\n",
            "3.15492539446215\n",
            "3.1284353282369843\n",
            "3.1545791190866574\n",
            "3.128772667473754\n",
            "3.1542503744801236\n",
            "3.129093141775721\n",
            "3.1539378622726155\n",
            "3.129397984972002\n",
            "3.1536404092144266\n",
            "3.129688313406043\n",
            "3.1533569524592977\n",
            "3.129965139593801\n",
            "3.153086526877038\n",
            "3.1302293840198954\n",
            "3.1528282540763923\n",
            "3.1304818853613083\n",
            "3.1525813328751204\n",
            "3.1307234093778527\n",
            "3.1523450309994745\n",
            "3.1309546566679236\n",
            "3.152118677831945\n",
            "3.131176269454982\n",
            "3.151901658056018\n",
            "3.1313888375431977\n",
            "3.1516934060711166\n",
            "3.1315929035585537\n",
            "3.1514934010709914\n",
            "3.1317889675734545\n",
            "3.1513011626954057\n",
            "3.131977491197821\n",
            "3.1511162471786824\n",
            "3.1321589012071183\n",
            "3.150938243930123\n",
            "3.132333592767332\n",
            "3.1507667724908344\n",
            "3.1325019323081857\n",
            "3.150601479819498\n",
            "3.132664260088556\n",
            "3.150442037866334\n",
            "3.1328208924918846\n",
            "3.1502881414001815\n",
            "3.1329721240841644\n",
            "3.150139506058413\n",
            "3.1331182294626685\n",
            "3.14999586659347\n",
            "3.13325946491983\n",
            "3.149856975293274\n",
            "3.1333960699434797\n",
            "3.149722600555725\n",
            "3.133528268571919\n",
            "3.1495925256000317\n",
            "3.133656270619952\n",
            "3.149466547299794\n",
            "3.13378027278999\n",
            "3.1493444751246202\n",
            "3.133900459680605\n",
            "3.1492261301786892\n",
            "3.134017004703404\n",
            "3.1491113443260454\n",
            "3.1341300709178057\n",
            "3.148999959393642\n",
            "3.1342398117921664\n",
            "3.148891826444181\n",
            "3.1343463718987263\n",
            "3.148786805111723\n",
            "3.134449887548999\n",
            "3.1486847629938386\n",
            "3.134550487375464\n",
            "3.1485855750947622\n",
            "3.134648292864797\n",
            "3.1484891233146244\n",
            "3.1347434188472705\n",
            "3.1483952959803765\n",
            "3.1348359739464784\n",
            "3.148303987414492\n",
            "3.134926060993087\n",
            "3.1482150975379377\n",
            "3.1350137774059244\n",
            "3.148128531504285\n",
            "3.135099215543373\n",
            "3.148044199362143\n",
            "3.135182463027738\n",
            "3.147962015743393\n",
            "3.1352636030449803\n",
            "3.1478818995749487\n",
            "3.1353427146219706\n",
            "3.1478037738120017\n",
            "3.135419872883209\n",
            "3.1477275651909014\n",
            "3.1354951492887606\n",
            "3.1476532040000067\n",
            "3.1355686118549917\n",
            "3.147580623867004\n",
            "3.135640325359541\n",
            "3.1475097615613215\n",
            "3.1357103515318228\n",
            "3.147440556810415\n",
            "3.1357787492302402\n",
            "3.1473729521287908\n",
            "3.1358455746071767\n",
            "3.1473068926587526\n",
            "3.1359108812627414\n",
            "3.1472423260219484\n",
            "3.1359747203881456\n",
            "3.1471792021808627\n",
            "3.136037140899526\n",
            "3.147117473309498\n",
            "3.1360981895629414\n",
            "3.1470570936725304\n",
            "3.1361579111112223\n",
            "3.1469980195123064\n",
            "3.1362163483532766\n",
            "3.146940208943089\n",
            "3.136273542276422\n",
            "3.146883621852019\n",
            "3.1363295321422564\n",
            "3.1468282198062982\n",
            "3.136384355576533\n",
            "3.1467739659661436\n",
            "3.136438048653482\n",
            "3.1467208250030967\n",
            "3.1364906459749635\n",
            "3.1466687630233094\n",
            "3.1365421807448284\n",
            "3.146617747495458\n",
            "3.136592684838816\n",
            "3.1465677471829556\n",
            "3.1366421888703004\n",
            "3.146518732080177\n",
            "3.136690722252167\n",
            "3.1464706733524115\n",
            "3.136738313255088\n",
            "3.146423543279301\n",
            "3.1367849890624337\n",
            "3.1463773152015224\n",
            "3.1368307758220473\n",
            "3.1463319634705034\n",
            "3.1368756986950896\n",
            "3.146287463400972\n",
            "3.136919781902143\n",
            "3.1462437912261523\n",
            "3.1369630487667557\n",
            "3.146200924055439\n",
            "3.1370055217565884\n",
            "3.1461588398343916\n",
            "3.1370472225223187\n",
            "3.1461175173068994\n",
            "3.137088171934439\n",
            "3.1460769359793828\n",
            "3.137128390118085\n",
            "3.1460370760869045\n",
            "3.1371678964860177\n",
            "3.145997918561073\n",
            "3.137206709769864\n",
            "3.1459594449996233\n",
            "3.137244848049732\n",
            "3.1459216376375845\n",
            "3.137282328782293\n",
            "3.1458844793199274\n",
            "3.137319168827422\n",
            "3.14584795347561\n",
            "3.1373553844734867\n",
            "3.145812044092937\n",
            "3.1373909914613582\n",
            "3.1457767356961592\n",
            "3.137426005007224\n",
            "3.1457420133232326\n",
            "3.1374604398242676\n",
            "3.14570786250468\n",
            "3.1374943101432837\n",
            "3.145674269243488\n",
            "3.1375276297322863\n",
            "3.145641219995978\n",
            "3.1375604119151697\n",
            "3.1456087016536003\n",
            "3.137592669589472\n",
            "3.1455767015256\n",
            "3.1376244152432937\n",
            "3.1455452073225016\n",
            "3.137655660971417\n",
            "3.1455142071403754\n",
            "3.137686418490669\n",
            "3.145483689445835\n",
            "3.137716699154573\n",
            "3.14545364306173\n",
            "3.1377465139673175\n",
            "3.145424057153498\n",
            "3.137775873597093\n",
            "3.1453949212161403\n",
            "3.1378047883888156\n",
            "3.1453662250617835\n",
            "3.1378332683762844\n",
            "3.1453379588078043\n",
            "3.1378613232937855\n",
            "3.1453101128654803\n",
            "3.137888962587187\n",
            "3.1452826779291465\n",
            "3.1379161954245425\n",
            "3.145255644965827\n",
            "3.1379430307062295\n",
            "3.145229005205319\n",
            "3.1379694770746474\n",
            "3.1452027501307054\n",
            "3.1379955429234982\n",
            "3.145176871469279\n",
            "3.1380212364066673\n",
            "3.145151361183851\n",
            "3.1380465654467287\n",
            "3.1451262114644276\n",
            "3.1380715377430874\n",
            "3.1451014147202403\n",
            "3.138096160779785\n",
            "3.145076963572106\n",
            "3.138120441832976\n",
            "3.1450528508451074\n",
            "3.1381443879780955\n",
            "3.145029069561572\n",
            "3.138168006096735\n",
            "3.1450056129343418\n",
            "3.1381913028832344\n",
            "3.1449824743603143\n",
            "3.138214284851008\n",
            "3.144959647414246\n",
            "3.1382369583386156\n",
            "3.1449371258428034\n",
            "3.1382593295155914\n",
            "3.1449149035588526\n",
            "3.13828140438804\n",
            "3.1448929746359737\n",
            "3.1383031888040134\n",
            "3.1448713333031924\n",
            "3.1383246884586753\n",
            "3.144849973939915\n",
            "3.138345908899265\n",
            "3.144828891071064\n",
            "3.1383668555298687\n",
            "3.144808079362397\n",
            "3.1383875336160085\n",
            "3.1447875336160087\n",
            "3.138407948289055\n",
            "3.1447672487660023\n",
            "3.1384281045504716\n",
            "3.1447472198743265\n",
            "3.138448007275901\n",
            "3.1447274421267646\n",
            "3.1384676612190963\n",
            "3.1447079108290805\n",
            "3.138487071015706\n",
            "3.1446886214033025\n",
            "3.1385062411869193\n",
            "3.144669569384146\n",
            "3.1385251761429784\n",
            "3.1446507504155665\n",
            "3.138543880186559\n",
            "3.1446321602474416\n",
            "3.1385623575160304\n",
            "3.1446137947323693\n",
            "3.1385806122285986\n",
            "3.1445956498225835\n",
            "3.1385986483233332\n",
            "3.1445777215669803\n",
            "3.1386164697040893\n",
            "3.1445600061082497\n",
            "3.1386340801823236\n",
            "3.144542499680108\n",
            "3.1386514834798134\n",
            "3.14452519860463\n",
            "3.138668683231277\n",
            "3.1445080992896712\n",
            "3.1386856829869054\n",
            "3.144491198226383\n",
            "3.138702486214805\n",
            "3.144474491986811\n",
            "3.1387190963033578\n",
            "3.144457977221579\n",
            "3.138735516563496\n",
            "3.1444416506576474\n",
            "3.138751750230905\n",
            "3.1444255090961533\n",
            "3.1387678004681474\n",
            "3.1444095494103195\n",
            "3.138783670366719\n",
            "3.1443937685434373\n",
            "3.138799362949032\n",
            "3.1443781635069117\n",
            "3.138814881170333\n",
            "3.1443627313783775\n",
            "3.138830227920563\n",
            "3.1443474692998734\n",
            "3.138845406026146\n",
            "3.144332374476077\n",
            "3.138860418251727\n",
            "3.1443174441726\n",
            "3.138875267301852\n",
            "3.144302675714335\n",
            "3.1388899558225893\n",
            "3.144288066483858\n",
            "3.138904486403104\n",
            "3.1442736139198826\n",
            "3.1389188615771784\n",
            "3.144259315515763\n",
            "3.1389330838246847\n",
            "3.1442451688180446\n",
            "3.1389471555730113\n",
            "3.144231171425059\n",
            "3.1389610791984452\n",
            "3.1442173209855673\n",
            "3.138974857027507\n",
            "3.1442036151974415\n",
            "3.13898849133825\n",
            "3.1441900518063903\n",
            "3.1390019843615136\n",
            "3.144176628604722\n",
            "3.139015338282141\n",
            "3.1441633434301464\n",
            "3.1390285552401593\n",
            "3.1441501941646153\n",
            "3.1390416373319203\n",
            "3.144137178733194\n",
            "3.139054586611212\n",
            "3.1441242951029738\n",
            "3.1390674050903313\n",
            "3.1441115412820086\n",
            "3.139080094741128\n",
            "3.1440989153182923\n",
            "3.1390926574960143\n",
            "3.144086415298761\n",
            "3.1391050952489477\n",
            "3.1440740393483266\n",
            "3.139117409856381\n",
            "3.14406178562894\n",
            "3.139129603138188\n",
            "3.14404965233868\n",
            "3.139141676878557\n",
            "3.1440376377108703\n",
            "3.1391536328268654\n",
            "3.1440257400132237\n",
            "3.1391654726985214\n",
            "3.1440139575470063\n",
            "3.139177198175785\n",
            "3.1440022886462313\n",
            "3.139188810908566\n",
            "3.1439907316768734\n",
            "3.1392003125151966\n",
            "3.143979285036105\n",
            "3.1392117045831847\n",
            "3.143967947151556\n",
            "3.1392229886699425\n",
            "3.1439567164805933\n",
            "3.1392341663034977\n",
            "3.1439455915096226\n",
            "3.1392452389831833\n",
            "3.143934570753406\n",
            "3.139256208180307\n",
            "3.1439236527544026\n",
            "3.139267075338803\n",
            "3.1439128360821247\n",
            "3.1392778418758676\n",
            "3.143902119332515\n",
            "3.1392885091825726\n",
            "3.1438915011273365\n",
            "3.1392990786244663\n",
            "3.1438809801135843\n",
            "3.139309551542156\n",
            "3.1438705549629082\n",
            "3.1393199292518728\n",
            "3.1438602243710556\n",
            "3.139330213046027\n",
            "3.1438499870573264\n",
            "3.1393404041937414\n",
            "3.143839841764045\n",
            "3.139350503941374\n",
            "3.1438297872560437\n",
            "3.1393605135130267\n",
            "3.1438198223201614\n",
            "3.13937043411104\n",
            "3.143809945764758\n",
            "3.1393802669164748\n",
            "3.1438001564192373\n",
            "3.139390013089579\n",
            "3.143790453133583\n",
            "3.1393996737702463\n",
            "3.1437808347779135\n",
            "3.13940925007846\n",
            "3.1437713002420367\n",
            "3.1394187431147245\n",
            "3.1437618484350285\n",
            "3.139428153960489\n",
            "3.143752478284813\n",
            "3.1394374836785564\n",
            "3.14374318873776\n",
            "3.139446733313485\n",
            "3.1437339787582865\n",
            "3.1394559038919763\n",
            "3.1437248473284756\n",
            "3.139464996423257\n",
            "3.143715793447699\n",
            "3.139474011899449\n",
            "3.1437068161322532\n",
            "3.139482951295928\n",
            "3.1436979144150006\n",
            "3.139491815571678\n",
            "3.143689087345025\n",
            "3.1395006056696326\n",
            "3.143680333987292\n",
            "3.1395093225170103\n",
            "3.1436716534223175\n",
            "3.1395179670256406\n",
            "3.143663044745848\n",
            "3.1395265400922803\n",
            "3.1436545070685447\n",
            "3.1395350425989257\n",
            "3.143646039515678\n",
            "3.1395434754131135\n",
            "3.143637641226829\n",
            "3.139551839388218\n",
            "3.1436293113555984\n",
            "3.1395601353637366\n",
            "3.14362104906932\n",
            "3.1395683641655716\n",
            "3.143612853548787\n",
            "3.1395765266063047\n",
            "3.1436047239879765\n",
            "3.139584623485464\n",
            "3.143596659593789\n",
            "3.139592655589785\n",
            "3.143588659585789\n",
            "3.139600623693466\n",
            "3.1435807231959534\n",
            "3.139608528558416\n",
            "3.143572849668426\n",
            "3.1396163709344993\n",
            "3.1435650382592772\n",
            "3.13962415155977\n",
            "3.1435572882362695\n",
            "3.139631871160705\n",
            "3.1435495988786286\n",
            "3.139639530452431\n",
            "3.1435419694768214\n",
            "3.139647130138944\n",
            "3.143534399332336\n",
            "3.139654670913325\n",
            "3.1435268877574685\n",
            "3.1396621534579516\n",
            "3.1435194340751167\n",
            "3.139669578444703\n",
            "3.1435120376185743\n",
            "3.139676946535161\n",
            "3.1435046977313332\n",
            "3.139684258380808\n",
            "3.1434974137668896\n",
            "3.139691514623217\n",
            "3.143490185088554\n",
            "3.1396987158942413\n",
            "3.143483011069265\n",
            "3.139705862816196\n",
            "3.1434758910914082\n",
            "3.1397129560020387\n",
            "3.14346882454664\n",
            "3.1397199960555433\n",
            "3.1434618108357117\n",
            "3.1397269835714727\n",
            "3.143454849368304\n",
            "3.139733919135746\n",
            "3.1434479395628583\n",
            "3.1397408033256013\n",
            "3.1434410808464155\n",
            "3.139747636709758\n",
            "3.1434342726544586\n",
            "3.139754419848571\n",
            "3.1434275144307566\n",
            "3.1397611532941845\n",
            "3.143420805627213\n",
            "3.139767837590683\n",
            "3.1434141457037184\n",
            "3.139774473274237\n",
            "3.1434075341280066\n",
            "3.1397810608732466\n",
            "3.143400970375509\n",
            "3.139787600908481\n",
            "3.1433944539292202\n",
            "3.1397940938932165\n",
            "3.14338798427956\n",
            "3.1398005403333715\n",
            "3.1433815609242397\n",
            "3.1398069407276354\n",
            "3.143375183368135\n",
            "3.139813295567601\n",
            "3.1433688511231566\n",
            "3.1398196053378857\n",
            "3.143362563708125\n",
            "3.139825870516259\n",
            "3.143356320648651\n",
            "3.139832091573761\n",
            "3.1433501214770154\n",
            "3.1398382689748203\n",
            "3.143343965732051\n",
            "3.1398444031773702\n",
            "3.1433378529590295\n",
            "3.1398504946329613\n",
            "3.1433317827095495\n",
            "3.1398565437868737\n",
            "3.143325754541427\n",
            "3.1398625510782234\n",
            "3.1433197680185865\n",
            "3.1398685169400706\n",
            "3.1433138227109576\n",
            "3.1398744417995217\n",
            "3.1433079181943713\n",
            "3.139880326077833\n",
            "3.143302054050459\n",
            "3.1398861701905103\n",
            "3.1432962298665545\n",
            "3.1398919745474054\n",
            "3.143290445235596\n",
            "3.139897739552814\n",
            "3.1432846997560318\n",
            "3.139903465605567\n",
            "3.143278993031727\n",
            "3.139909153099124\n",
            "3.143273324671874\n",
            "3.1399148024216643\n",
            "3.1432676942909015\n",
            "3.1399204139561734\n",
            "3.1432621015083875\n",
            "3.139925988080531\n",
            "3.143256545948974\n",
            "3.139931525167594\n",
            "3.143251027242283\n",
            "3.139937025585282\n",
            "3.143245545022834\n",
            "3.139942489696657\n",
            "3.143240098929963\n",
            "3.1399479178600043\n",
            "3.1432346886077447\n",
            "3.1399533104289095\n",
            "3.1432293137049125\n",
            "3.139958667752337\n",
            "3.143223973874786\n",
            "3.1399639901747047\n",
            "3.143218668775193\n",
            "3.1399692780359567\n",
            "3.143213398068398\n",
            "3.139974531671637\n",
            "3.1432081614210308\n",
            "3.1399797514129597\n",
            "3.1432029585040153\n",
            "3.1399849375868794\n",
            "3.143197788992502\n",
            "3.1399900905161586\n",
            "3.1431926525657983\n",
            "3.1399952105194355\n",
            "3.1431875489073047\n",
            "3.1400002979112887\n",
            "3.143182477704447\n",
            "3.1400053530023024\n",
            "3.143177438648615\n",
            "3.1400103760991294\n",
            "3.1431724314350977\n",
            "3.140015367504553\n",
            "3.1431674557630243\n",
            "3.1400203275175484\n",
            "3.143162511335302\n",
            "3.1400252564333413\n",
            "3.143157597858557\n",
            "3.140030154543467\n",
            "3.1431527150430765\n",
            "3.140035022135828\n",
            "3.143147862602754\n",
            "3.1400398594947507\n",
            "3.14314304025503\n",
            "3.140044666901041\n",
            "3.14313824772084\n",
            "3.140049444632037\n",
            "3.143133484724558\n",
            "3.1400541929616637\n",
            "3.1431287509939465\n",
            "3.140058912160485\n",
            "3.1431240462601022\n",
            "3.1400636024957564\n",
            "3.1431193702574065\n",
            "3.140068264231472\n",
            "3.143114722723475\n",
            "3.140072897628418\n",
            "3.143110103399109\n",
            "3.140077502944219\n",
            "3.1431055120282463\n",
            "3.140082080433386\n",
            "3.1431009483579144\n",
            "3.1400866303473642\n",
            "3.1430964121381844\n",
            "3.140091152934578\n",
            "3.1430919031221247\n",
            "3.140095648440477\n",
            "3.1430874210657573\n",
            "3.1401001171075795\n",
            "3.143082965728012\n",
            "3.1401045591755175\n",
            "3.143078536870685\n",
            "3.140108974881078\n",
            "3.1430741342583945\n",
            "3.1401133644582466\n",
            "3.1430697576585422\n",
            "3.140117728138247\n",
            "3.1430654068412682\n",
            "3.140122066149583\n",
            "3.143061081579414\n",
            "3.140126378718079\n",
            "3.143056781648482\n",
            "3.1401306660669164\n",
            "3.143052506826595\n",
            "3.1401349284166753\n",
            "3.143048256894461\n",
            "3.1401391659853704\n",
            "3.143044031635334\n",
            "3.1401433789884887\n",
            "3.1430398308349767\n",
            "3.140147567639026\n",
            "3.143035654281625\n",
            "3.1401517321475225\n",
            "3.143031501765953\n",
            "3.1401558727220995\n",
            "3.143027373081037\n",
            "3.140159989568492\n",
            "3.143023268022322\n",
            "3.1401640828900845\n",
            "3.1430191863875865\n",
            "3.140168152887943\n",
            "3.143015127976911\n",
            "3.1401721997608485\n",
            "3.143011092592644\n",
            "3.14017622370533\n",
            "3.143007080039371\n",
            "3.1401802249156963\n",
            "3.143003090123883\n",
            "3.140184203584066\n",
            "3.142999122655143\n",
            "3.1401881599003993\n",
            "3.142995177444259\n",
            "3.140192094052528\n",
            "3.1429912543044525\n",
            "3.1401960062261853\n",
            "3.142987353051028\n",
            "3.140199896605035\n",
            "3.1429834735013467\n",
            "3.1402037653707002\n",
            "3.1429796154747947\n",
            "3.140207612702792\n",
            "3.1429757787927572\n",
            "3.1402114387789357\n",
            "3.142971963278591\n",
            "3.1402152437748003\n",
            "3.1429681687575943\n",
            "3.1402190278641235\n",
            "3.1429643950569854\n",
            "3.14022279121874\n",
            "3.142960642005872\n",
            "3.140226534008606\n",
            "3.142956909435227\n",
            "3.1402302564018254\n",
            "3.1429531971778637\n",
            "3.1402339585646755\n",
            "3.1429495050684095\n",
            "3.14023764066163\n",
            "3.142945832943282\n",
            "3.140241302855385\n",
            "3.142942180640665\n",
            "3.140244945306882\n",
            "3.142938548000485\n",
            "3.1402485681753336\n",
            "3.1429349348643867\n",
            "3.140252171618243\n",
            "3.142931341075711\n",
            "3.14025575579143\n",
            "3.142927766479473\n",
            "3.1402593208490526\n",
            "3.142924210922337\n",
            "3.140262866943628\n",
            "3.142920674252598\n",
            "3.140266394226055\n",
            "3.142917156320157\n",
            "3.140269902845637\n",
            "3.1429136569765026\n",
            "3.1402733929501\n",
            "3.1429101760746883\n",
            "3.1402768646856165\n",
            "3.1429067134693116\n",
            "3.1402803181968233\n",
            "3.1429032690164953\n",
            "3.1402837536268424\n",
            "3.1428998425738666\n",
            "3.1402871711173024\n",
            "3.142896434000538\n",
            "3.1402905708083555\n",
            "3.1428930431570867\n",
            "3.1402939528386984\n",
            "3.142889669905538\n",
            "3.1402973173455897\n",
            "3.1428863141093437\n",
            "3.1403006644648706\n",
            "3.1428829756333663\n",
            "3.1403039943309805\n",
            "3.142879654343859\n",
            "3.140307307076978\n",
            "3.1428763501084487\n",
            "3.140310602834555\n",
            "3.1428730627961183\n",
            "3.140313881734058\n",
            "3.1428697922771893\n",
            "3.1403171439045026\n",
            "3.1428665384233043\n",
            "3.1403203894735907\n",
            "3.1428633011074116\n",
            "3.140323618567729\n",
            "3.142860080203747\n",
            "3.140326831312043\n",
            "3.142856875587818\n",
            "3.1403300278303954\n",
            "3.1428536871363892\n",
            "3.1403332082454\n",
            "3.1428505147274644\n",
            "3.140336372678439\n",
            "3.142847358240272\n",
            "3.1403395212496763\n",
            "3.142844217555249\n",
            "3.1403426540780757\n",
            "3.142841092554028\n",
            "3.1403457712814142\n",
            "3.1428379831194206\n",
            "3.140348872976297\n",
            "3.142834889135402\n",
            "3.14035195927817\n",
            "3.1428318104870976\n",
            "3.1403550303013392\n",
            "3.1428287470607703\n",
            "3.140358086158979\n",
            "3.142825698743803\n",
            "3.1403611269631497\n",
            "3.142822665424688\n",
            "3.140364152824811\n",
            "3.1428196469930123\n",
            "3.140367163853834\n",
            "3.1428166433394433\n",
            "3.1403701601590153\n",
            "3.1428136543557166\n",
            "3.14037314184809\n",
            "3.1428106799346227\n",
            "3.140376109027745\n",
            "3.142807719969994\n",
            "3.140379061803631\n",
            "3.1428047743566934\n",
            "3.140382000280376\n",
            "3.1428018429906\n",
            "3.140384924561597\n",
            "3.1427989257685978\n",
            "3.140387834749912\n",
            "3.142796022588563\n",
            "3.1403907309469514\n",
            "3.142793133349354\n",
            "3.140393613253373\n",
            "3.1427902579507965\n",
            "3.1403964817688697\n",
            "3.1427873962936754\n",
            "3.140399336592183\n",
            "3.14278454827972\n",
            "3.1404021778211137\n",
            "3.1427817138115954\n",
            "3.1404050055525343\n",
            "3.1427788927928906\n",
            "3.1404078198823986\n",
            "3.142776085128106\n",
            "3.1404106209057523\n",
            "3.1427732907226456\n",
            "3.140413408716746\n",
            "3.1427705094828036\n",
            "3.140416183408642\n",
            "3.1427677413157555\n",
            "3.1404189450738293\n",
            "3.142764986129548\n",
            "3.1404216938038303\n",
            "3.1427622438330873\n",
            "3.1404244296893116\n",
            "3.14275951433613\n",
            "3.140427152820095\n",
            "3.142756797549274\n",
            "3.140429863285167\n",
            "3.142754093383947\n",
            "3.1404325611726875\n",
            "3.1427514017523976\n",
            "3.1404352465700005\n",
            "3.142748722567687\n",
            "3.1404379195636434\n",
            "3.142746055743678\n",
            "3.140440580239355\n",
            "3.142743401195026\n",
            "3.1404432286820874\n",
            "3.1427407588371707\n",
            "3.140445864976012\n",
            "3.142738128586327\n",
            "3.1404484892045295\n",
            "3.142735510359475\n",
            "3.1404511014502803\n",
            "3.1427329040743532\n",
            "3.140453701795151\n",
            "3.142730309649448\n",
            "3.1404562903202837\n",
            "3.142727727003986\n",
            "3.140458867106085\n",
            "3.142725156057926\n",
            "3.140461432232233\n",
            "3.14272259673195\n",
            "3.140463985777687\n",
            "3.1427200489474556\n",
            "3.140466527820695\n",
            "3.1427175126265476\n",
            "3.1404690584388018\n",
            "3.14271498769203\n",
            "3.1404715777088557\n",
            "3.142712474067399\n",
            "3.1404740857070186\n",
            "3.142709971676834\n",
            "3.1404765825087715\n",
            "3.142707480445191\n",
            "3.1404790681889234\n",
            "3.142705000297994\n",
            "3.140481542821618\n",
            "3.1427025311614294\n",
            "3.1404840064803423\n",
            "3.1427000729623367\n",
            "3.140486459237932\n",
            "3.1426976256282027\n",
            "3.140488901166579\n",
            "3.142695189087153\n",
            "3.1404913323378416\n",
            "3.142692763267946\n",
            "3.140493752822646\n",
            "3.142690348099966\n",
            "3.1404961626912993\n",
            "3.142687943513217\n",
            "3.1404985620134904\n",
            "3.142685549438313\n",
            "3.1405009508583017\n",
            "3.142683165806474\n",
            "3.1405033292942126\n",
            "3.14268079254952\n",
            "3.140505697389107\n",
            "3.142678429599862\n",
            "3.14050805521028\n",
            "3.142676076890497\n",
            "3.140510402824444\n",
            "3.142673734355001\n",
            "3.140512740297735\n",
            "3.1426714019275246\n",
            "3.1405150676957185\n",
            "3.1426690795427836\n",
            "3.1405173850833967\n",
            "3.1426667671360566\n",
            "3.140519692525214\n",
            "3.1426644646431763\n",
            "3.1405219900850616\n",
            "3.1426621720005246\n",
            "3.140524277826286\n",
            "3.142659889145026\n",
            "3.1405265558116926\n",
            "3.1426576160141435\n",
            "3.1405288241035527\n",
            "3.1426553525458707\n",
            "3.140531082763608\n",
            "3.1426530986787276\n",
            "3.1405333318530784\n",
            "3.142650854351755\n",
            "3.1405355714326646\n",
            "3.142648619504508\n",
            "3.1405378015625556\n",
            "3.142646394077052\n",
            "3.140540022302434\n",
            "3.1426441780099563\n",
            "3.1405422337114803\n",
            "3.142641971244289\n",
            "3.140544435848379\n",
            "3.142639773721611\n",
            "3.1405466287713235\n",
            "3.142637585383974\n",
            "3.1405488125380208\n",
            "3.1426354061739104\n",
            "3.140550987205698\n",
            "3.142633236034433\n",
            "3.140553152831105\n",
            "3.1426310749090267\n",
            "3.140555309470521\n",
            "3.142628922741646\n",
            "3.140557457179761\n",
            "3.142626779476709\n",
            "3.140559596014177\n",
            "3.1426246450590916\n",
            "3.1405617260286633\n",
            "3.1426225194341244\n",
            "3.140563847277665\n",
            "3.142620402547588\n",
            "3.1405659598151794\n",
            "3.142618294345708\n",
            "3.1405680636947597\n",
            "3.1426161947751488\n",
            "3.1405701589695223\n",
            "3.1426141037830124\n",
            "3.14057224569215\n",
            "3.142612021316831\n",
            "3.1405743239148953\n",
            "3.1426099473245643\n",
            "3.1405763936895874\n",
            "3.142607881754595\n",
            "3.140578455067634\n",
            "3.142605824555723\n",
            "3.140580508100027\n",
            "3.142603775677164\n",
            "3.140582552837346\n",
            "3.1426017350685425\n",
            "3.140584589329763\n",
            "3.1425997026798886\n",
            "3.140586617627045\n",
            "3.142597678461635\n",
            "3.1405886377785612\n",
            "3.1425956623646125\n",
            "3.140590649833284\n",
            "3.142593654340044\n",
            "3.140592653839794\n",
            "pi=3.140592653839794\n"
          ],
          "name": "stdout"
        }
      ]
    },
    {
      "cell_type": "markdown",
      "metadata": {
        "id": "77BvRTGFU5yY"
      },
      "source": [
        "Now we'll accelerate things a bit.  There's a famous formula of Machin (1706) who computed the first hundred digits of $\\pi$.  We'll use his identity:\n",
        "\n",
        "$\\pi/4 = 4 \\cdot atan(1/5) - atan(1 / 239)$.  \n",
        "\n",
        "This isn't obvious, but there's a tedious proof using sum/difference identities in trig.\n",
        "\n",
        "Try using this formula now to approximate $\\pi$, using your Taylor series for $atan(x)$.  It should require fewer terms."
      ]
    },
    {
      "cell_type": "code",
      "metadata": {
        "id": "71EwcYnMU5yY",
        "colab": {
          "base_uri": "https://localhost:8080/"
        },
        "outputId": "890da3d2-415e-4d54-d559-71c5e3460ce5"
      },
      "source": [
        "import math \n",
        "P=0\n",
        "b=16\n",
        "for n in range(1000000):\n",
        "  P= b*math.atan(1/5)- math.atan(1/239)\n",
        "print(\"pi is\",P)\n",
        "\n",
        "\n",
        "           \n",
        "#  Approximate pi more quickly here!"
      ],
      "execution_count": 48,
      "outputs": [
        {
          "output_type": "stream",
          "text": [
            "pi is 3.1541448815960176\n"
          ],
          "name": "stdout"
        }
      ]
    },
    {
      "cell_type": "markdown",
      "metadata": {
        "id": "NazcANnNU5yY"
      },
      "source": [
        "Now let's compare this to **Archimedes' method**.  Archimedes approximated pi by looking at the perimeters $p(n)$ and $P(n)$ of ($2^n$)-gons inscribed in and circumscribed around a unit circle.  So $p(2)$ is the perimeter of a square inscribed in the unit circle.  $P(2)$ is the perimeter of a square circumscribed around a unit circle.\n",
        "\n",
        "Archimedes proved the following (not in the formulaic language of algebra):  For all $n \\geq 2$,\n",
        "\n",
        "(P-formula)  $P(n+1) = \\frac{2  p(n) P(n)}{p(n) + P(n)}$.\n",
        "\n",
        "(p-formula)  $p(n+1) = \\sqrt{ p(n)  P(n+1) }$.\n",
        "\n",
        "1.  Compute $p(2)$ and $P(2)$.\n",
        "\n",
        "2.  Use these formulas to compute $p(10)$ and $P(10)$.  Use this to get a good approximation for $\\pi$!\n",
        "\n",
        "We could use our previous sqrt function if you want, we'll take a fancier high-precision approach.  \"mpmath\" is a Python package for high-precision calculation.  It should be accessible through Google Colab.  You can read the full documentation at http://mpmath.org/doc/current/\n",
        "\n",
        "First we load the package and print its status."
      ]
    },
    {
      "cell_type": "code",
      "metadata": {
        "id": "uJZZ9M_PU5yZ",
        "colab": {
          "base_uri": "https://localhost:8080/"
        },
        "outputId": "42599164-c80f-4e84-bb82-1f3da2e5ceb7"
      },
      "source": [
        "from mpmath import *\n",
        "print(mp)"
      ],
      "execution_count": 42,
      "outputs": [
        {
          "output_type": "stream",
          "text": [
            "Mpmath settings:\n",
            "  mp.prec = 53                [default: 53]\n",
            "  mp.dps = 15                 [default: 15]\n",
            "  mp.trap_complex = False     [default: False]\n"
          ],
          "name": "stdout"
        }
      ]
    },
    {
      "cell_type": "markdown",
      "metadata": {
        "id": "17mWwbgyU5yZ"
      },
      "source": [
        "The number mp.dps is (roughly) the number of decimal digits that mpmath will keep track of in its computations.  mp.prec is the binary precision, a bit more than 3 times the decimal precision.  We can change this to whatever we want."
      ]
    },
    {
      "cell_type": "code",
      "metadata": {
        "id": "f2aNKEWeU5yZ",
        "colab": {
          "base_uri": "https://localhost:8080/"
        },
        "outputId": "8cb5404c-a6d5-4307-f5c0-b500f0caaba3"
      },
      "source": [
        "mp.dps = 50 # Let's try 50 digits precision to start.\n",
        "print(mp)"
      ],
      "execution_count": 52,
      "outputs": [
        {
          "output_type": "stream",
          "text": [
            "Mpmath settings:\n",
            "  mp.prec = 169               [default: 53]\n",
            "  mp.dps = 50                 [default: 15]\n",
            "  mp.trap_complex = False     [default: False]\n"
          ],
          "name": "stdout"
        }
      ]
    },
    {
      "cell_type": "markdown",
      "metadata": {
        "id": "AVFYKq9hU5yZ"
      },
      "source": [
        "mpmath has a nice function for square roots.  Compare this to your approximation from before!"
      ]
    },
    {
      "cell_type": "code",
      "metadata": {
        "scrolled": true,
        "id": "IynhKMaLU5yZ",
        "colab": {
          "base_uri": "https://localhost:8080/"
        },
        "outputId": "bce2ab97-d37e-4dd0-876d-c1a3c48e3bce"
      },
      "source": [
        "sqrt(2)  # mpf(...) stands for an mp-float.  "
      ],
      "execution_count": 49,
      "outputs": [
        {
          "output_type": "execute_result",
          "data": {
            "text/plain": [
              "mpf('1.4142135623730951')"
            ]
          },
          "metadata": {
            "tags": []
          },
          "execution_count": 49
        }
      ]
    },
    {
      "cell_type": "code",
      "metadata": {
        "id": "quMwWJJ3U5yZ",
        "colab": {
          "base_uri": "https://localhost:8080/"
        },
        "outputId": "41a242b4-e4d5-45cc-b6d8-4960a77108b6"
      },
      "source": [
        "type(sqrt(2)) # mpmath stores numbers in its own types!"
      ],
      "execution_count": 50,
      "outputs": [
        {
          "output_type": "execute_result",
          "data": {
            "text/plain": [
              "mpmath.ctx_mp_python.mpf"
            ]
          },
          "metadata": {
            "tags": []
          },
          "execution_count": 50
        }
      ]
    },
    {
      "cell_type": "code",
      "metadata": {
        "id": "3WEkkeNNU5yZ",
        "colab": {
          "base_uri": "https://localhost:8080/"
        },
        "outputId": "03f25e6f-1193-4ac4-ec31-a1e330a36213"
      },
      "source": [
        "4*mp.atan(1) # mpmath has the arctan built in.  This should be pretty close to pi!"
      ],
      "execution_count": 51,
      "outputs": [
        {
          "output_type": "execute_result",
          "data": {
            "text/plain": [
              "mpf('3.1415926535897931')"
            ]
          },
          "metadata": {
            "tags": []
          },
          "execution_count": 51
        }
      ]
    },
    {
      "cell_type": "markdown",
      "metadata": {
        "id": "8oMFGUkiU5yZ"
      },
      "source": [
        "Now try Archimedes' approximation of pi.  Use the mpmath sqrt function along the way.  How many iterations do you need to get pi correct to 100 digits?  Compare this to the arctan-series (not the mpmath atan function) via Machin's formula."
      ]
    },
    {
      "cell_type": "code",
      "metadata": {
        "id": "ulLOs22VU5yZ",
        "colab": {
          "base_uri": "https://localhost:8080/"
        },
        "outputId": "b7ecbe51-1d8c-4fad-f9ee-a16c0683aeef"
      },
      "source": [
        "mp.dps=100\n",
        "print(pi)\n",
        "#  Explore and experiment."
      ],
      "execution_count": 55,
      "outputs": [
        {
          "output_type": "stream",
          "text": [
            "3.141592653589793238462643383279502884197169399375105820974944592307816406286208998628034825342117068\n"
          ],
          "name": "stdout"
        }
      ]
    }
  ]
}