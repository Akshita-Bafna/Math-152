{
  "nbformat": 4,
  "nbformat_minor": 0,
  "metadata": {
    "colab": {
      "name": "Exploration1 EP1.ipynb",
      "provenance": [],
      "collapsed_sections": [],
      "toc_visible": true,
      "include_colab_link": true
    },
    "kernelspec": {
      "name": "python3",
      "display_name": "Python 3"
    }
  },
  "cells": [
    {
      "cell_type": "markdown",
      "metadata": {
        "id": "view-in-github",
        "colab_type": "text"
      },
      "source": [
        "<a href=\"https://colab.research.google.com/github/Akshita-Bafna/Math-152/blob/main/Exploration1_EP1.ipynb\" target=\"_parent\"><img src=\"https://colab.research.google.com/assets/colab-badge.svg\" alt=\"Open In Colab\"/></a>"
      ]
    },
    {
      "cell_type": "markdown",
      "metadata": {
        "id": "qZZTFhe7K5LT"
      },
      "source": [
        "## Exploration 1: Epidemiology Model\r\n",
        "#### Rowan Nolan, Perry Xie, Dean Ben-Zour, Akshita Bafna, Rajvir Mann\r\n"
      ]
    },
    {
      "cell_type": "markdown",
      "metadata": {
        "id": "kyAVi_HzTuJN"
      },
      "source": [
        "#### Initial SIR Calculation"
      ]
    },
    {
      "cell_type": "markdown",
      "metadata": {
        "id": "TheFs-SFRKO3"
      },
      "source": [
        "Introduction \n",
        "\n",
        "Hello! Our Exploration 1 is about Epidemiology Models. With the coming of the current pandemic, it has become very important for us to understand the expected patterns and algorithms that occur, as every day is costly. We have created a program to represent the SIR model- that is the spread of disease model.\n",
        "Our variables are  the susceptible(sus_num), the infected(inf_num), and the recovered(recov_num)  number of people, from a total of the population. Other additional variables are the deceased number of people (deceas_num) and the vaccinated number of people (vaccin_num), to give our model a more realistic approach. By the addition of these variables, we are able to realistically estimate the S, I and R variables. \n",
        "To insure our variables are interpreted fairly, we make a few assumptions about the model. \n",
        "The deceased amount of people are not subtracted from the overall population. It’s just another group of people, like susceptible or infected people.\n",
        "The infection rate and the recovery rate is assumed to be constant throughout the time span specified (days). In other words, the infection rate and recovery rate entered is the average rate of infections and recoveries. \n",
        "Similarly, the deceased rate and the vaccinated rate are also assumed to be constant throughout the time span specified. \n",
        "\n",
        "Using the program we have worked on, we can now find the number of susceptible, infected, recovered, vaccinated and deceased people. And, using this information for differing variables, we can interpret the effect of the infected and recovery rates on the different groups of people.\n",
        "Given below are the formulas for susceptible, infected and recovered number of people. \n",
        "\n",
        "$S_{t+1} = S_t - \\beta \\frac{I_tS_t}{N}$\n",
        "\n",
        "$I_{t+1} = I_t + \\beta \\frac{I_tS_t}{N} - \\gamma I_t$\n",
        "\n",
        "$R_{t+1} = R_t + \\gamma I_t$"
      ]
    },
    {
      "cell_type": "code",
      "metadata": {
        "id": "_m7wAO4jQIAT"
      },
      "source": [
        "import matplotlib.pyplot as plt\r\n",
        "import pandas as pd\r\n",
        "\r\n",
        "%matplotlib inline"
      ],
      "execution_count": 1,
      "outputs": []
    },
    {
      "cell_type": "code",
      "metadata": {
        "id": "00vypFTSMTSR"
      },
      "source": [
        "def calc_sus(population, infected, susceptible, inf_rate):\r\n",
        "    sus = susceptible - inf_rate*((infected*susceptible)/population)\r\n",
        "    return sus\r\n",
        "\r\n",
        "def calc_inf(population, infected, susceptible, inf_rate, recov_rate):\r\n",
        "    inf = infected + inf_rate*((infected*susceptible)/population) - recov_rate*infected\r\n",
        "    return inf\r\n",
        "    \r\n",
        "def calc_recov(infected, recovered, recov_rate):\r\n",
        "    recovered = recovered + recov_rate*infected\r\n",
        "    return recovered\r\n",
        "\r\n",
        "# Run recovery until no more infected people\r\n",
        "# Called when susceptible less than 0\r\n",
        "def run_calc_recov(infected, recovered, recov_rate, day, sus_list, inf_list, recov_list):\r\n",
        "    while infected > 0:\r\n",
        "        recov_temp = calc_recov(infected,\r\n",
        "                               recovered,\r\n",
        "                               recov_rate)\r\n",
        "        \r\n",
        "        infected = infected - recov_temp\r\n",
        "        recovered = recov_temp\r\n",
        "        \r\n",
        "        day += 1\r\n",
        "        # If there is no more infected people, everyone is recovered\r\n",
        "        if infected <= 0:\r\n",
        "            print('Day2 {}: 0 Susceptible, 0 Infected, {} Recovered'.format(day-1, recovered))\r\n",
        "            \r\n",
        "            sus_list.append(0)\r\n",
        "            inf_list.append(0)\r\n",
        "            inf_list.append(recovered)\r\n",
        "            return sus_list, inf_list, recov_list\r\n",
        "        \r\n",
        "        print('Day {}: 0 Susceptible, {} Infected, {} Recovered'.\r\n",
        "             format(day-1, round(infected, 0), round(recovered, 0)))\r\n",
        "        \r\n",
        "        sus_list.append(0)\r\n",
        "        inf_list.append(infected)\r\n",
        "        inf_list.append(recovered)\r\n",
        "        \r\n",
        "        return sus_list, inf_list, recov_list \r\n",
        "        \r\n",
        "\r\n",
        "\r\n",
        "\r\n",
        "def calc_sir(population, inf_day_zero, inf_rate, recov_rate, days):\r\n",
        "    sus_num = population - inf_day_zero  # Susceptible day 0\r\n",
        "    inf_num = inf_day_zero               # Infected day 0\r\n",
        "    recov_num = 0                        # Recovered day 0\r\n",
        "    print(f'Day 0: {sus_num} Susceptible, {inf_num} Infected')\r\n",
        "    \r\n",
        "    sus_list = [sus_num]\r\n",
        "    inf_list = [inf_num]\r\n",
        "    recov_list = [recov_num]\r\n",
        "    \r\n",
        "    for i in range(1, days+1):\r\n",
        "        sus_temp = calc_sus(population = population,\r\n",
        "                          infected = inf_num, \r\n",
        "                          susceptible = sus_num, \r\n",
        "                          inf_rate = inf_rate)\r\n",
        "        \r\n",
        "        inf_temp = calc_inf(population = population,\r\n",
        "                          infected = inf_num, \r\n",
        "                          susceptible = sus_num,\r\n",
        "                          inf_rate = inf_rate,\r\n",
        "                          recov_rate = recov_rate)\r\n",
        "        recov_temp = calc_recov(infected = inf_num,\r\n",
        "                               recovered = recov_num,\r\n",
        "                               recov_rate = recov_rate)\r\n",
        "                \r\n",
        "        sus_num = sus_temp\r\n",
        "        inf_num = inf_temp\r\n",
        "        recov_num = recov_temp\r\n",
        "        \r\n",
        "        sus_list.append(round(sus_num, 2))\r\n",
        "        inf_list.append(inf_num)\r\n",
        "        recov_list.append(recov_num)\r\n",
        "        \r\n",
        "        # Check if conditions are logical (ie. no negative people susceptible/infected)\r\n",
        "        # Checks if there are no more susceptible people\r\n",
        "        if sus_num <= 0:\r\n",
        "            return run_calc_recov(infected = inf_num,\r\n",
        "                          recovered = recov_num, \r\n",
        "                          recov_rate = recov_rate,\r\n",
        "                          day = i,\r\n",
        "                          sus_list = sus_list,\r\n",
        "                          inf_list = inf_list,\r\n",
        "                          recov_list = recov_list)\r\n",
        "        \r\n",
        "        # Check if there are no more infected people\r\n",
        "        if inf_num <= 0:\r\n",
        "            inf_num = 0\r\n",
        "            print('Day {}: {} Susceptible, {} Infected, {} Recovered'.\r\n",
        "            format(i, round(sus_num, 0), round(inf_num, 0), round(recov_num, 0)))    \r\n",
        "            break               \r\n",
        "        \r\n",
        "        print('Day {}: {} Susceptible, {} Infected, {} Recovered'.\r\n",
        "             format(i, round(sus_num, 0), round(inf_num, 0), round(recov_num, 0)))\r\n",
        "        \r\n",
        "    return sus_list, inf_list, recov_list"
      ],
      "execution_count": 2,
      "outputs": []
    },
    {
      "cell_type": "markdown",
      "metadata": {
        "id": "0Yqlkimf2-ll"
      },
      "source": [
        "For our first run of the code, we have:\r\n",
        "\r\n",
        "```\r\n",
        "population = 1000000\r\n",
        "infect_day1 = 1000\r\n",
        "inf_rate = 2.2\r\n",
        "rec_rate = .2\r\n",
        "```\r\n",
        "\r\n",
        "We print every day requested until there are "
      ]
    },
    {
      "cell_type": "code",
      "metadata": {
        "id": "_VCVM0a5NWZe",
        "colab": {
          "base_uri": "https://localhost:8080/"
        },
        "outputId": "93a4d8af-52c0-445f-b242-67735eb9c0e5"
      },
      "source": [
        "population = 1000000\r\n",
        "infect_day0 = 1000\r\n",
        "inf_rate = 2.2\r\n",
        "rec_rate = .2\r\n",
        "\r\n",
        "sus_list, inf_list, recov_list = calc_sir(population = population, \r\n",
        "        inf_day_zero = infect_day0,\r\n",
        "        inf_rate = inf_rate,\r\n",
        "        recov_rate = rec_rate,\r\n",
        "        days = 20)"
      ],
      "execution_count": 3,
      "outputs": [
        {
          "output_type": "stream",
          "text": [
            "Day 0: 999000 Susceptible, 1000 Infected\n",
            "Day 1: 996802.0 Susceptible, 2998.0 Infected, 200.0 Recovered\n",
            "Day 2: 990228.0 Susceptible, 8972.0 Infected, 800.0 Recovered\n",
            "Day 3: 970682.0 Susceptible, 26724.0 Infected, 2594.0 Recovered\n",
            "Day 4: 913613.0 Susceptible, 78448.0 Infected, 7939.0 Recovered\n",
            "Day 5: 755935.0 Susceptible, 220436.0 Infected, 23629.0 Recovered\n",
            "Day 6: 389338.0 Susceptible, 542947.0 Infected, 67716.0 Recovered\n",
            "Day 7: 0 Susceptible, 543226.0 Infected, 356188.0 Recovered\n"
          ],
          "name": "stdout"
        }
      ]
    },
    {
      "cell_type": "markdown",
      "metadata": {
        "id": "v8VV-shsRmbI"
      },
      "source": [
        "#### Changing the values of $\\beta$ (infection rate) and $\\gamma$ (recovery rate)\r\n",
        "Intuitively, we see that the infection rate and recovery rate are dependent on one another; Specifically, looking at the equation for calc_inf, we see that the number of infected individuals are impacted by both variables:\r\n",
        "\r\n",
        "```\r\n",
        "def calc_inf(population, infected, susceptible, inf_rate, recov_rate):\r\n",
        "    inf = infected + inf_rate*((infected*susceptible)/population) - recov_rate*infected\r\n",
        "    return inf\r\n",
        "```\r\n",
        "Therefore, changing one variable or the other is less impactful than examining the ratio of $\\beta$ to $\\gamma$.\r\n"
      ]
    },
    {
      "cell_type": "markdown",
      "metadata": {
        "id": "p6G-cKpbm4_R"
      },
      "source": [
        "# Basic reproduction number = 1"
      ]
    },
    {
      "cell_type": "markdown",
      "metadata": {
        "id": "APNk2oTxVpVW"
      },
      "source": [
        "Our first case would be a ratio of $\\beta/\\gamma = 1$.\r\n",
        "\r\n"
      ]
    },
    {
      "cell_type": "code",
      "metadata": {
        "id": "HY1FnR7ZQIEp",
        "colab": {
          "base_uri": "https://localhost:8080/"
        },
        "outputId": "97a354bd-8e2c-4fd6-f538-c391d3c8aa3b"
      },
      "source": [
        "population = 1000000\r\n",
        "infect_day1 = 50000\r\n",
        "inf_rate = .8\r\n",
        "rec_rate = .8\r\n",
        "\r\n",
        "sus_list, inf_list, recov_list = calc_sir(population = population, \r\n",
        "        inf_day_zero = infect_day1,\r\n",
        "        inf_rate = inf_rate,\r\n",
        "        recov_rate = rec_rate,\r\n",
        "        days = 20)\r\n",
        "print('Basic reproduction number: {}'.format(inf_rate/rec_rate))"
      ],
      "execution_count": null,
      "outputs": [
        {
          "output_type": "stream",
          "text": [
            "Day 0: 950000 Susceptible, 50000 Infected\n",
            "Day 1: 912000.0 Susceptible, 48000.0 Infected, 40000.0 Recovered\n",
            "Day 2: 876979.0 Susceptible, 44621.0 Infected, 78400.0 Recovered\n",
            "Day 3: 845674.0 Susceptible, 40229.0 Infected, 114097.0 Recovered\n",
            "Day 4: 818457.0 Susceptible, 35263.0 Infected, 146280.0 Recovered\n",
            "Day 5: 795368.0 Susceptible, 30141.0 Infected, 174490.0 Recovered\n",
            "Day 6: 776190.0 Susceptible, 25207.0 Infected, 198603.0 Recovered\n",
            "Day 7: 760537.0 Susceptible, 20694.0 Infected, 218769.0 Recovered\n",
            "Day 8: 747947.0 Susceptible, 16729.0 Infected, 235324.0 Recovered\n",
            "Day 9: 737937.0 Susceptible, 13356.0 Infected, 248707.0 Recovered\n",
            "Day 10: 730052.0 Susceptible, 10556.0 Infected, 259392.0 Recovered\n",
            "Day 11: 723887.0 Susceptible, 8276.0 Infected, 267837.0 Recovered\n",
            "Day 12: 719094.0 Susceptible, 6448.0 Infected, 274458.0 Recovered\n",
            "Day 13: 715384.0 Susceptible, 4999.0 Infected, 279617.0 Recovered\n",
            "Day 14: 712523.0 Susceptible, 3861.0 Infected, 283616.0 Recovered\n",
            "Day 15: 710323.0 Susceptible, 2973.0 Infected, 286704.0 Recovered\n",
            "Day 16: 708633.0 Susceptible, 2284.0 Infected, 289083.0 Recovered\n",
            "Day 17: 707338.0 Susceptible, 1752.0 Infected, 290910.0 Recovered\n",
            "Day 18: 706347.0 Susceptible, 1341.0 Infected, 292311.0 Recovered\n",
            "Day 19: 705589.0 Susceptible, 1026.0 Infected, 293384.0 Recovered\n",
            "Day 20: 705010.0 Susceptible, 785.0 Infected, 294206.0 Recovered\n",
            "Basic reproduction number: 1.0\n"
          ],
          "name": "stdout"
        }
      ]
    },
    {
      "cell_type": "code",
      "metadata": {
        "id": "SeHkAr6JQFOG",
        "colab": {
          "base_uri": "https://localhost:8080/",
          "height": 388
        },
        "outputId": "1632b60f-89b9-4165-905b-b592bf810162"
      },
      "source": [
        "fig = plt.figure(figsize=(10,6))\r\n",
        "ax = fig.add_subplot()\r\n",
        "\r\n",
        "ax.plot(sus_list, label='Susceptible')\r\n",
        "ax.plot(inf_list, label='Infected')\r\n",
        "ax.plot(recov_list, label='Recovered')\r\n",
        "ax.set_xlabel('Days')\r\n",
        "ax.set_ylabel('Number of People')\r\n",
        "\r\n",
        "plt.ticklabel_format(useOffset=False, style='plain')\r\n",
        "plt.legend()\r\n",
        "plt.show()"
      ],
      "execution_count": null,
      "outputs": [
        {
          "output_type": "display_data",
          "data": {
            "image/png": "[encoded data removed]",
            "text/plain": [
              "<Figure size 720x432 with 1 Axes>"
            ]
          },
          "metadata": {
            "tags": [],
            "needs_background": "light"
          }
        }
      ]
    },
    {
      "cell_type": "markdown",
      "metadata": {
        "id": "dUUBXDPonBLt"
      },
      "source": [
        "# Basic reproduction number < 1"
      ]
    },
    {
      "cell_type": "code",
      "metadata": {
        "id": "tBCQcIA1Qjh1",
        "colab": {
          "base_uri": "https://localhost:8080/"
        },
        "outputId": "c15aff8d-9a15-4d73-d1cc-a7f417c1aede"
      },
      "source": [
        "population = 100000\r\n",
        "infect_day1 = 25000\r\n",
        "inf_rate = 1\r\n",
        "rec_rate = 2\r\n",
        "\r\n",
        "sus_list, inf_list, recov_list = calc_sir(population = population, \r\n",
        "        inf_day_zero = infect_day1,\r\n",
        "        inf_rate = inf_rate,\r\n",
        "        recov_rate = rec_rate,\r\n",
        "        days = 20)\r\n",
        "print('Basic reproduction number: {}'.format(inf_rate/rec_rate))"
      ],
      "execution_count": null,
      "outputs": [
        {
          "output_type": "stream",
          "text": [
            "Day 0: 75000 Susceptible, 25000 Infected\n",
            "Day 1: 56250.0 Susceptible, 0 Infected, 50000 Recovered\n",
            "Basic reproduction number: 0.5\n"
          ],
          "name": "stdout"
        }
      ]
    },
    {
      "cell_type": "code",
      "metadata": {
        "id": "G67tiI-RQdrh",
        "colab": {
          "base_uri": "https://localhost:8080/",
          "height": 388
        },
        "outputId": "29ebac37-2b33-4877-b602-e264a00fbd61"
      },
      "source": [
        "fig = plt.figure(figsize=(10,6))\r\n",
        "ax = fig.add_subplot()\r\n",
        "\r\n",
        "ax.plot(sus_list, label='Susceptible')\r\n",
        "ax.plot(inf_list, label='Infected')\r\n",
        "ax.plot(recov_list, label='Recovered')\r\n",
        "ax.set_xlabel('Days')\r\n",
        "ax.set_ylabel('Number of People')\r\n",
        "\r\n",
        "\r\n",
        "plt.ticklabel_format(useOffset=False, style='plain')\r\n",
        "plt.legend()\r\n",
        "plt.show()"
      ],
      "execution_count": null,
      "outputs": [
        {
          "output_type": "display_data",
          "data": {
            "image/png": "[encoded data removed]",
            "text/plain": [
              "<Figure size 720x432 with 1 Axes>"
            ]
          },
          "metadata": {
            "tags": [],
            "needs_background": "light"
          }
        }
      ]
    },
    {
      "cell_type": "markdown",
      "metadata": {
        "id": "jCAnDARCSxRp"
      },
      "source": [
        "In this example, we show that having $\\beta/\\gamma < 1$ results in a disease which would be cured worldwide within the first day.\r\n",
        "We can generalize this to say that if $\\beta < \\gamma$, the basic reproduction number will be less than one, and more people will recover every day than are infected."
      ]
    },
    {
      "cell_type": "markdown",
      "metadata": {
        "id": "DsSaLr2fnQsE"
      },
      "source": [
        "# Basic reproduction number > 1"
      ]
    },
    {
      "cell_type": "code",
      "metadata": {
        "id": "K0yk3pdITBWR",
        "colab": {
          "base_uri": "https://localhost:8080/"
        },
        "outputId": "a6435d9c-99f8-4f49-da61-94401f97589c"
      },
      "source": [
        "population = 1000000\r\n",
        "infect_day1 = 50000\r\n",
        "inf_rate = 2\r\n",
        "rec_rate = 1\r\n",
        "\r\n",
        "sus_list, inf_list, recov_list = calc_sir(population = population, \r\n",
        "        inf_day_zero = infect_day1,\r\n",
        "        inf_rate = inf_rate,\r\n",
        "        recov_rate = rec_rate,\r\n",
        "        days = 20)\r\n",
        "print('Basic reproduction number: {}'.format(inf_rate/rec_rate))"
      ],
      "execution_count": null,
      "outputs": [
        {
          "output_type": "stream",
          "text": [
            "Day 0: 950000 Susceptible, 50000 Infected\n",
            "Day 1: 855000.0 Susceptible, 95000.0 Infected, 50000 Recovered\n",
            "Day 2: 692550.0 Susceptible, 162450.0 Infected, 145000.0 Recovered\n",
            "Day 3: 467541.0 Susceptible, 225009.0 Infected, 307450.0 Recovered\n",
            "Day 4: 257138.0 Susceptible, 210402.0 Infected, 532459.0 Recovered\n",
            "Day 5: 148933.0 Susceptible, 108205.0 Infected, 742862.0 Recovered\n",
            "Day 6: 116703.0 Susceptible, 32231.0 Infected, 851067.0 Recovered\n",
            "Day 7: 109180.0 Susceptible, 7523.0 Infected, 883297.0 Recovered\n",
            "Day 8: 107537.0 Susceptible, 1643.0 Infected, 890820.0 Recovered\n",
            "Day 9: 107184.0 Susceptible, 353.0 Infected, 892463.0 Recovered\n",
            "Day 10: 107108.0 Susceptible, 76.0 Infected, 892816.0 Recovered\n",
            "Day 11: 107092.0 Susceptible, 16.0 Infected, 892892.0 Recovered\n",
            "Day 12: 107089.0 Susceptible, 3.0 Infected, 892908.0 Recovered\n",
            "Day 13: 107088.0 Susceptible, 1.0 Infected, 892911.0 Recovered\n",
            "Day 14: 107088.0 Susceptible, 0.0 Infected, 892912.0 Recovered\n",
            "Day 15: 107088.0 Susceptible, 0.0 Infected, 892912.0 Recovered\n",
            "Day 16: 107088.0 Susceptible, 0.0 Infected, 892912.0 Recovered\n",
            "Day 17: 107088.0 Susceptible, 0.0 Infected, 892912.0 Recovered\n",
            "Day 18: 107088.0 Susceptible, 0.0 Infected, 892912.0 Recovered\n",
            "Day 19: 107088.0 Susceptible, 0.0 Infected, 892912.0 Recovered\n",
            "Day 20: 107088.0 Susceptible, 0.0 Infected, 892912.0 Recovered\n",
            "Basic reproduction number: 2.0\n"
          ],
          "name": "stdout"
        }
      ]
    },
    {
      "cell_type": "code",
      "metadata": {
        "id": "75FxRidTTGFE",
        "colab": {
          "base_uri": "https://localhost:8080/",
          "height": 388
        },
        "outputId": "3b6b97a2-2277-44f5-b751-2555fffe8d5b"
      },
      "source": [
        "fig = plt.figure(figsize=(10,6))\r\n",
        "ax = fig.add_subplot()\r\n",
        "\r\n",
        "ax.plot(sus_list, label='Susceptible')\r\n",
        "ax.plot(inf_list, label='Infected')\r\n",
        "ax.plot(recov_list, label='Recovered')\r\n",
        "ax.set_xlabel('Days')\r\n",
        "ax.set_ylabel('Number of People')\r\n",
        "\r\n",
        "\r\n",
        "plt.ticklabel_format(useOffset=False, style='plain')\r\n",
        "plt.legend()\r\n",
        "plt.show()"
      ],
      "execution_count": null,
      "outputs": [
        {
          "output_type": "display_data",
          "data": {
            "image/png": "[encoded data removed]",
            "text/plain": [
              "<Figure size 720x432 with 1 Axes>"
            ]
          },
          "metadata": {
            "tags": [],
            "needs_background": "light"
          }
        }
      ]
    },
    {
      "cell_type": "markdown",
      "metadata": {
        "id": "oIBImSEKrpd6"
      },
      "source": [
        "###SIRVD Calculation (Adding Vaccinated and Deceased)"
      ]
    },
    {
      "cell_type": "code",
      "metadata": {
        "id": "dTphj5MAryd0"
      },
      "source": [
        "def calc_sirdv(population, inf_day_zero, inf_rate, recov_rate, deceas_rate, vaccin_rate, days):\r\n",
        "    # This is number fo people susceptible day 0\r\n",
        "    sus_num = population - inf_day_zero\r\n",
        "    # This is the number of people infected day 0\r\n",
        "    inf_num = inf_day_zero\r\n",
        "    recov_num = 0\r\n",
        "    print(f'Day 0: {sus_num} Susceptible, {inf_num} Infected')\r\n",
        "    vaccin_num = 0\r\n",
        "    deceas_num = 0\r\n",
        "\r\n",
        "    sus_list = [sus_num]\r\n",
        "    inf_list = [inf_num]\r\n",
        "    recov_list = [recov_num]\r\n",
        "    vaccine_list = [vaccin_num]\r\n",
        "    deceas_list = [deceas_num]\r\n",
        "\r\n",
        "    for i in range(1, days+1): #Calculating SIR the same way\r\n",
        "        sus_temp = calc_sus(population = population,\r\n",
        "                          infected = inf_num, \r\n",
        "                          susceptible = sus_num, \r\n",
        "                          inf_rate = inf_rate)\r\n",
        "        \r\n",
        "        inf_temp = calc_inf(population = population,\r\n",
        "                          infected = inf_num, \r\n",
        "                          susceptible = sus_num,\r\n",
        "                          inf_rate = inf_rate,\r\n",
        "                          recov_rate = recov_rate)\r\n",
        "        recov_temp = calc_recov(infected = inf_num,\r\n",
        "                               recovered = recov_num,\r\n",
        "                               recov_rate = recov_rate)\r\n",
        "        sus_num = int(sus_temp)\r\n",
        "        inf_num = int(inf_temp)\r\n",
        "        recov_num = int(recov_temp)\r\n",
        "\r\n",
        "        if i >=10 and inf_num >0: # This gives an offset to the deceased count\r\n",
        "          deceas_today = int(inf_num*deceas_rate)\r\n",
        "          deceas_num += deceas_today\r\n",
        "          inf_num = inf_num-deceas_today\r\n",
        "        if i >=100 and sus_num >0: # This gives an offset to the vaccinated count\r\n",
        "          vaccin_today = int(sus_num*vaccin_rate)\r\n",
        "          vaccin_num += vaccin_today\r\n",
        "          sus_num = sus_num-vaccin_today\r\n",
        "        \r\n",
        "        print(f'Day {i}: {sus_num} Susceptible, {inf_num} Infected, {vaccin_num} Vaccinated, {deceas_num} Deceased, {recov_num} Recovered') \r\n",
        "      \r\n",
        "        sus_list.append(round(sus_num, 2))\r\n",
        "        inf_list.append(inf_num)\r\n",
        "        recov_list.append(recov_num)\r\n",
        "        deceas_list.append(deceas_num)\r\n",
        "        vaccine_list.append(vaccin_num)\r\n",
        "        \r\n",
        "\r\n",
        "    print(f'Day {i}: {sus_num} Susceptible, {inf_num} Infected, {vaccin_num} Vaccinated, {deceas_num} Deceased, {recov_num} Recovered')\r\n",
        "        \r\n",
        "    return sus_list, inf_list, recov_list, deceas_list, vaccine_list"
      ],
      "execution_count": null,
      "outputs": []
    },
    {
      "cell_type": "markdown",
      "metadata": {
        "id": "e8yGgqEwfyGP"
      },
      "source": [
        "In this scenario, we have two new variables, deceas_rate and vaccin_rate.  We can derive a few new ratios out of these, particularly a fatality rate:\r\n",
        "\r\n",
        "deceas_rate / inf_rate = fatality rate\r\n",
        "\r\n",
        "For our first example, our deceas_rate is $.01$, and our inf_rate (from the last run of the original code) is $1$.\r\n",
        "\r\n",
        "Therefore, we have a fatality rate of $.01/1$, or simply $.01$."
      ]
    },
    {
      "cell_type": "code",
      "metadata": {
        "id": "fSdW4LEeseJI",
        "colab": {
          "base_uri": "https://localhost:8080/"
        },
        "outputId": "d9e6e88e-2cc6-45bb-cab2-37069cf8c2d9"
      },
      "source": [
        "deceas_rate = .01\r\n",
        "vaccin_rate = 0.005\r\n",
        "inf_rate = 0.1\r\n",
        "rec_rate = 0.2\r\n",
        "\r\n",
        "\r\n",
        "sus_list, inf_list, recov_list, deceas_list, vaccine_list = calc_sirdv(population = population, \r\n",
        "        inf_day_zero = infect_day1,\r\n",
        "        inf_rate = inf_rate,\r\n",
        "        recov_rate = rec_rate,\r\n",
        "        deceas_rate = deceas_rate,\r\n",
        "        vaccin_rate = vaccin_rate,\r\n",
        "        days = 120)"
      ],
      "execution_count": null,
      "outputs": [
        {
          "output_type": "stream",
          "text": [
            "Day 0: 75000 Susceptible, 25000 Infected\n",
            "Day 1: 73125 Susceptible, 21875 Infected, 0 Vaccinated, 0 Deceased, 5000 Recovered\n",
            "Day 2: 71525 Susceptible, 19099 Infected, 0 Vaccinated, 0 Deceased, 9375 Recovered\n",
            "Day 3: 70158 Susceptible, 16645 Infected, 0 Vaccinated, 0 Deceased, 13194 Recovered\n",
            "Day 4: 68990 Susceptible, 14483 Infected, 0 Vaccinated, 0 Deceased, 16523 Recovered\n",
            "Day 5: 67990 Susceptible, 12585 Infected, 0 Vaccinated, 0 Deceased, 19419 Recovered\n",
            "Day 6: 67134 Susceptible, 10923 Infected, 0 Vaccinated, 0 Deceased, 21936 Recovered\n",
            "Day 7: 66400 Susceptible, 9471 Infected, 0 Vaccinated, 0 Deceased, 24120 Recovered\n",
            "Day 8: 65771 Susceptible, 8205 Infected, 0 Vaccinated, 0 Deceased, 26014 Recovered\n",
            "Day 9: 65231 Susceptible, 7103 Infected, 0 Vaccinated, 0 Deceased, 27655 Recovered\n",
            "Day 10: 64767 Susceptible, 6084 Infected, 0 Vaccinated, 61 Deceased, 29075 Recovered\n",
            "Day 11: 64372 Susceptible, 5209 Infected, 0 Vaccinated, 113 Deceased, 30291 Recovered\n",
            "Day 12: 64036 Susceptible, 4457 Infected, 0 Vaccinated, 158 Deceased, 31332 Recovered\n",
            "Day 13: 63750 Susceptible, 3813 Infected, 0 Vaccinated, 196 Deceased, 32223 Recovered\n",
            "Day 14: 63506 Susceptible, 3261 Infected, 0 Vaccinated, 228 Deceased, 32985 Recovered\n",
            "Day 15: 63298 Susceptible, 2787 Infected, 0 Vaccinated, 256 Deceased, 33637 Recovered\n",
            "Day 16: 63121 Susceptible, 2382 Infected, 0 Vaccinated, 280 Deceased, 34194 Recovered\n",
            "Day 17: 62970 Susceptible, 2035 Infected, 0 Vaccinated, 300 Deceased, 34670 Recovered\n",
            "Day 18: 62841 Susceptible, 1739 Infected, 0 Vaccinated, 317 Deceased, 35077 Recovered\n",
            "Day 19: 62731 Susceptible, 1485 Infected, 0 Vaccinated, 332 Deceased, 35424 Recovered\n",
            "Day 20: 62637 Susceptible, 1269 Infected, 0 Vaccinated, 344 Deceased, 35721 Recovered\n",
            "Day 21: 62557 Susceptible, 1084 Infected, 0 Vaccinated, 354 Deceased, 35974 Recovered\n",
            "Day 22: 62489 Susceptible, 926 Infected, 0 Vaccinated, 363 Deceased, 36190 Recovered\n",
            "Day 23: 62431 Susceptible, 791 Infected, 0 Vaccinated, 370 Deceased, 36375 Recovered\n",
            "Day 24: 62381 Susceptible, 676 Infected, 0 Vaccinated, 376 Deceased, 36533 Recovered\n",
            "Day 25: 62338 Susceptible, 577 Infected, 0 Vaccinated, 381 Deceased, 36668 Recovered\n",
            "Day 26: 62302 Susceptible, 493 Infected, 0 Vaccinated, 385 Deceased, 36783 Recovered\n",
            "Day 27: 62271 Susceptible, 421 Infected, 0 Vaccinated, 389 Deceased, 36881 Recovered\n",
            "Day 28: 62244 Susceptible, 360 Infected, 0 Vaccinated, 392 Deceased, 36965 Recovered\n",
            "Day 29: 62221 Susceptible, 307 Infected, 0 Vaccinated, 395 Deceased, 37037 Recovered\n",
            "Day 30: 62201 Susceptible, 262 Infected, 0 Vaccinated, 397 Deceased, 37098 Recovered\n",
            "Day 31: 62184 Susceptible, 223 Infected, 0 Vaccinated, 399 Deceased, 37150 Recovered\n",
            "Day 32: 62170 Susceptible, 191 Infected, 0 Vaccinated, 400 Deceased, 37194 Recovered\n",
            "Day 33: 62158 Susceptible, 163 Infected, 0 Vaccinated, 401 Deceased, 37232 Recovered\n",
            "Day 34: 62147 Susceptible, 139 Infected, 0 Vaccinated, 402 Deceased, 37264 Recovered\n",
            "Day 35: 62138 Susceptible, 118 Infected, 0 Vaccinated, 403 Deceased, 37291 Recovered\n",
            "Day 36: 62130 Susceptible, 100 Infected, 0 Vaccinated, 404 Deceased, 37314 Recovered\n",
            "Day 37: 62123 Susceptible, 86 Infected, 0 Vaccinated, 404 Deceased, 37334 Recovered\n",
            "Day 38: 62117 Susceptible, 74 Infected, 0 Vaccinated, 404 Deceased, 37351 Recovered\n",
            "Day 39: 62112 Susceptible, 63 Infected, 0 Vaccinated, 404 Deceased, 37365 Recovered\n",
            "Day 40: 62108 Susceptible, 54 Infected, 0 Vaccinated, 404 Deceased, 37377 Recovered\n",
            "Day 41: 62104 Susceptible, 46 Infected, 0 Vaccinated, 404 Deceased, 37387 Recovered\n",
            "Day 42: 62101 Susceptible, 39 Infected, 0 Vaccinated, 404 Deceased, 37396 Recovered\n",
            "Day 43: 62098 Susceptible, 33 Infected, 0 Vaccinated, 404 Deceased, 37403 Recovered\n",
            "Day 44: 62095 Susceptible, 28 Infected, 0 Vaccinated, 404 Deceased, 37409 Recovered\n",
            "Day 45: 62093 Susceptible, 24 Infected, 0 Vaccinated, 404 Deceased, 37414 Recovered\n",
            "Day 46: 62091 Susceptible, 20 Infected, 0 Vaccinated, 404 Deceased, 37418 Recovered\n",
            "Day 47: 62089 Susceptible, 17 Infected, 0 Vaccinated, 404 Deceased, 37422 Recovered\n",
            "Day 48: 62087 Susceptible, 14 Infected, 0 Vaccinated, 404 Deceased, 37425 Recovered\n",
            "Day 49: 62086 Susceptible, 12 Infected, 0 Vaccinated, 404 Deceased, 37427 Recovered\n",
            "Day 50: 62085 Susceptible, 10 Infected, 0 Vaccinated, 404 Deceased, 37429 Recovered\n",
            "Day 51: 62084 Susceptible, 8 Infected, 0 Vaccinated, 404 Deceased, 37431 Recovered\n",
            "Day 52: 62083 Susceptible, 6 Infected, 0 Vaccinated, 404 Deceased, 37432 Recovered\n",
            "Day 53: 62082 Susceptible, 5 Infected, 0 Vaccinated, 404 Deceased, 37433 Recovered\n",
            "Day 54: 62081 Susceptible, 4 Infected, 0 Vaccinated, 404 Deceased, 37434 Recovered\n",
            "Day 55: 62080 Susceptible, 3 Infected, 0 Vaccinated, 404 Deceased, 37434 Recovered\n",
            "Day 56: 62079 Susceptible, 2 Infected, 0 Vaccinated, 404 Deceased, 37434 Recovered\n",
            "Day 57: 62078 Susceptible, 1 Infected, 0 Vaccinated, 404 Deceased, 37434 Recovered\n",
            "Day 58: 62077 Susceptible, 0 Infected, 0 Vaccinated, 404 Deceased, 37434 Recovered\n",
            "Day 59: 62077 Susceptible, 0 Infected, 0 Vaccinated, 404 Deceased, 37434 Recovered\n",
            "Day 60: 62077 Susceptible, 0 Infected, 0 Vaccinated, 404 Deceased, 37434 Recovered\n",
            "Day 61: 62077 Susceptible, 0 Infected, 0 Vaccinated, 404 Deceased, 37434 Recovered\n",
            "Day 62: 62077 Susceptible, 0 Infected, 0 Vaccinated, 404 Deceased, 37434 Recovered\n",
            "Day 63: 62077 Susceptible, 0 Infected, 0 Vaccinated, 404 Deceased, 37434 Recovered\n",
            "Day 64: 62077 Susceptible, 0 Infected, 0 Vaccinated, 404 Deceased, 37434 Recovered\n",
            "Day 65: 62077 Susceptible, 0 Infected, 0 Vaccinated, 404 Deceased, 37434 Recovered\n",
            "Day 66: 62077 Susceptible, 0 Infected, 0 Vaccinated, 404 Deceased, 37434 Recovered\n",
            "Day 67: 62077 Susceptible, 0 Infected, 0 Vaccinated, 404 Deceased, 37434 Recovered\n",
            "Day 68: 62077 Susceptible, 0 Infected, 0 Vaccinated, 404 Deceased, 37434 Recovered\n",
            "Day 69: 62077 Susceptible, 0 Infected, 0 Vaccinated, 404 Deceased, 37434 Recovered\n",
            "Day 70: 62077 Susceptible, 0 Infected, 0 Vaccinated, 404 Deceased, 37434 Recovered\n",
            "Day 71: 62077 Susceptible, 0 Infected, 0 Vaccinated, 404 Deceased, 37434 Recovered\n",
            "Day 72: 62077 Susceptible, 0 Infected, 0 Vaccinated, 404 Deceased, 37434 Recovered\n",
            "Day 73: 62077 Susceptible, 0 Infected, 0 Vaccinated, 404 Deceased, 37434 Recovered\n",
            "Day 74: 62077 Susceptible, 0 Infected, 0 Vaccinated, 404 Deceased, 37434 Recovered\n",
            "Day 75: 62077 Susceptible, 0 Infected, 0 Vaccinated, 404 Deceased, 37434 Recovered\n",
            "Day 76: 62077 Susceptible, 0 Infected, 0 Vaccinated, 404 Deceased, 37434 Recovered\n",
            "Day 77: 62077 Susceptible, 0 Infected, 0 Vaccinated, 404 Deceased, 37434 Recovered\n",
            "Day 78: 62077 Susceptible, 0 Infected, 0 Vaccinated, 404 Deceased, 37434 Recovered\n",
            "Day 79: 62077 Susceptible, 0 Infected, 0 Vaccinated, 404 Deceased, 37434 Recovered\n",
            "Day 80: 62077 Susceptible, 0 Infected, 0 Vaccinated, 404 Deceased, 37434 Recovered\n",
            "Day 81: 62077 Susceptible, 0 Infected, 0 Vaccinated, 404 Deceased, 37434 Recovered\n",
            "Day 82: 62077 Susceptible, 0 Infected, 0 Vaccinated, 404 Deceased, 37434 Recovered\n",
            "Day 83: 62077 Susceptible, 0 Infected, 0 Vaccinated, 404 Deceased, 37434 Recovered\n",
            "Day 84: 62077 Susceptible, 0 Infected, 0 Vaccinated, 404 Deceased, 37434 Recovered\n",
            "Day 85: 62077 Susceptible, 0 Infected, 0 Vaccinated, 404 Deceased, 37434 Recovered\n",
            "Day 86: 62077 Susceptible, 0 Infected, 0 Vaccinated, 404 Deceased, 37434 Recovered\n",
            "Day 87: 62077 Susceptible, 0 Infected, 0 Vaccinated, 404 Deceased, 37434 Recovered\n",
            "Day 88: 62077 Susceptible, 0 Infected, 0 Vaccinated, 404 Deceased, 37434 Recovered\n",
            "Day 89: 62077 Susceptible, 0 Infected, 0 Vaccinated, 404 Deceased, 37434 Recovered\n",
            "Day 90: 62077 Susceptible, 0 Infected, 0 Vaccinated, 404 Deceased, 37434 Recovered\n",
            "Day 91: 62077 Susceptible, 0 Infected, 0 Vaccinated, 404 Deceased, 37434 Recovered\n",
            "Day 92: 62077 Susceptible, 0 Infected, 0 Vaccinated, 404 Deceased, 37434 Recovered\n",
            "Day 93: 62077 Susceptible, 0 Infected, 0 Vaccinated, 404 Deceased, 37434 Recovered\n",
            "Day 94: 62077 Susceptible, 0 Infected, 0 Vaccinated, 404 Deceased, 37434 Recovered\n",
            "Day 95: 62077 Susceptible, 0 Infected, 0 Vaccinated, 404 Deceased, 37434 Recovered\n",
            "Day 96: 62077 Susceptible, 0 Infected, 0 Vaccinated, 404 Deceased, 37434 Recovered\n",
            "Day 97: 62077 Susceptible, 0 Infected, 0 Vaccinated, 404 Deceased, 37434 Recovered\n",
            "Day 98: 62077 Susceptible, 0 Infected, 0 Vaccinated, 404 Deceased, 37434 Recovered\n",
            "Day 99: 62077 Susceptible, 0 Infected, 0 Vaccinated, 404 Deceased, 37434 Recovered\n",
            "Day 100: 61767 Susceptible, 0 Infected, 310 Vaccinated, 404 Deceased, 37434 Recovered\n",
            "Day 101: 61459 Susceptible, 0 Infected, 618 Vaccinated, 404 Deceased, 37434 Recovered\n",
            "Day 102: 61152 Susceptible, 0 Infected, 925 Vaccinated, 404 Deceased, 37434 Recovered\n",
            "Day 103: 60847 Susceptible, 0 Infected, 1230 Vaccinated, 404 Deceased, 37434 Recovered\n",
            "Day 104: 60543 Susceptible, 0 Infected, 1534 Vaccinated, 404 Deceased, 37434 Recovered\n",
            "Day 105: 60241 Susceptible, 0 Infected, 1836 Vaccinated, 404 Deceased, 37434 Recovered\n",
            "Day 106: 59940 Susceptible, 0 Infected, 2137 Vaccinated, 404 Deceased, 37434 Recovered\n",
            "Day 107: 59641 Susceptible, 0 Infected, 2436 Vaccinated, 404 Deceased, 37434 Recovered\n",
            "Day 108: 59343 Susceptible, 0 Infected, 2734 Vaccinated, 404 Deceased, 37434 Recovered\n",
            "Day 109: 59047 Susceptible, 0 Infected, 3030 Vaccinated, 404 Deceased, 37434 Recovered\n",
            "Day 110: 58752 Susceptible, 0 Infected, 3325 Vaccinated, 404 Deceased, 37434 Recovered\n",
            "Day 111: 58459 Susceptible, 0 Infected, 3618 Vaccinated, 404 Deceased, 37434 Recovered\n",
            "Day 112: 58167 Susceptible, 0 Infected, 3910 Vaccinated, 404 Deceased, 37434 Recovered\n",
            "Day 113: 57877 Susceptible, 0 Infected, 4200 Vaccinated, 404 Deceased, 37434 Recovered\n",
            "Day 114: 57588 Susceptible, 0 Infected, 4489 Vaccinated, 404 Deceased, 37434 Recovered\n",
            "Day 115: 57301 Susceptible, 0 Infected, 4776 Vaccinated, 404 Deceased, 37434 Recovered\n",
            "Day 116: 57015 Susceptible, 0 Infected, 5062 Vaccinated, 404 Deceased, 37434 Recovered\n",
            "Day 117: 56730 Susceptible, 0 Infected, 5347 Vaccinated, 404 Deceased, 37434 Recovered\n",
            "Day 118: 56447 Susceptible, 0 Infected, 5630 Vaccinated, 404 Deceased, 37434 Recovered\n",
            "Day 119: 56165 Susceptible, 0 Infected, 5912 Vaccinated, 404 Deceased, 37434 Recovered\n",
            "Day 120: 55885 Susceptible, 0 Infected, 6192 Vaccinated, 404 Deceased, 37434 Recovered\n",
            "Day 120: 55885 Susceptible, 0 Infected, 6192 Vaccinated, 404 Deceased, 37434 Recovered\n"
          ],
          "name": "stdout"
        }
      ]
    },
    {
      "cell_type": "code",
      "metadata": {
        "id": "II6WnAJASBZQ",
        "colab": {
          "base_uri": "https://localhost:8080/",
          "height": 388
        },
        "outputId": "ddcffb50-3116-475d-f546-fa22ce7c8a5a"
      },
      "source": [
        "fig = plt.figure(figsize=(10,6))\r\n",
        "ax = fig.add_subplot()\r\n",
        "\r\n",
        "ax.plot(sus_list, label='Susceptible')\r\n",
        "ax.plot(inf_list, label='Infected')\r\n",
        "ax.plot(recov_list, label='Recovered')\r\n",
        "ax.plot(deceas_list, label='Deceased')\r\n",
        "ax.plot(vaccine_list, label='Vaccined')\r\n",
        "ax.set_xlabel('Days')\r\n",
        "ax.set_ylabel('Number of People')\r\n",
        "\r\n",
        "\r\n",
        "plt.ticklabel_format(useOffset=False, style='plain')\r\n",
        "plt.legend(loc='upper right')\r\n",
        "plt.show()"
      ],
      "execution_count": null,
      "outputs": [
        {
          "output_type": "display_data",
          "data": {
            "image/png": "[encoded data removed]",
            "text/plain": [
              "<Figure size 720x432 with 1 Axes>"
            ]
          },
          "metadata": {
            "tags": [],
            "needs_background": "light"
          }
        }
      ]
    },
    {
      "cell_type": "markdown",
      "metadata": {
        "id": "DbmzFkxh27jQ"
      },
      "source": [
        "###Summary\r\n",
        "In this exploration on epidemiology models, we developed 2 calculations. the Susceptible Infected and Recovered calculation and the Susceptible Infected Recovered Vaccinated and Deceased calculation, or the SIR and SIRVD calculations. In the SIR calculation, wrote out several functions to find the values for the susceptible, infected and recovered. Then, we ran those values through for loops to simulate the results of each day based on the infection and recovery rate. For the SIRVD calculation, we ran a similar calculation, but now adding vaccination and deceased rates and populations to create a more accurate representation of the events that occur within a pandemic. Based on our test cases of our SIR and SIRVD calculations, we were able to see that the infection and recovery rates have a very large impact even when the deceased and vaccine rates are included, and the changes of those rates yields drastic differences in the calculation."
      ]
    }
  ]
}